{
 "cells": [
  {
   "cell_type": "code",
   "execution_count": 1,
   "metadata": {},
   "outputs": [],
   "source": [
    "from sec_edgar_downloader import Downloader\n",
    "from tqdm import tqdm\n",
    "from pyquery import PyQuery as pq\n",
    "import html2text\n",
    "import difflib\n",
    "import pandas as pd\n",
    "import os\n",
    "import json\n",
    "from bs4 import BeautifulSoup"
   ]
  },
  {
   "cell_type": "code",
   "execution_count": 3,
   "metadata": {},
   "outputs": [],
   "source": [
    "companies_oil = ['Chevron', 'Exxon', 'British Petroleum', 'Shell']\n",
    "companies_tech = ['Apple', 'Micorsoft', 'Tesla', 'Google']\n",
    "companies_bank = ['Bank of America', 'Goldman Sachs', 'Jp Morgan', 'Morgan Stanley']"
   ]
  },
  {
   "cell_type": "code",
   "execution_count": 2,
   "metadata": {},
   "outputs": [],
   "source": [
    "def_14 = ['DEF 14A']"
   ]
  },
  {
   "cell_type": "code",
   "execution_count": 6,
   "metadata": {},
   "outputs": [],
   "source": [
    "def crawl_company(company_ticker:str) -> None:\n",
    "    dl = Downloader(f'./data/')\n",
    "    for report in tqdm(def_14):\n",
    "        dl.get(report, company_ticker, after=\"2017-01-01\")"
   ]
  },
  {
   "cell_type": "code",
   "execution_count": 9,
   "metadata": {},
   "outputs": [
    {
     "name": "stderr",
     "output_type": "stream",
     "text": [
      "100%|██████████| 1/1 [00:09<00:00,  9.24s/it]\n"
     ]
    }
   ],
   "source": [
    "crawl_company('United Airlines')"
   ]
  },
  {
   "cell_type": "code",
   "execution_count": null,
   "metadata": {},
   "outputs": [],
   "source": [
    "# Oil\n",
    "for company in companies_oil:\n",
    "    crawl_company(company)\n",
    "\n",
    "# Tech\n",
    "for company in companies_tech:\n",
    "    crawl_company(company)\n",
    "\n",
    "# Bank\n",
    "for company in companies_bank:\n",
    "    crawl_company(company)"
   ]
  }
 ],
 "metadata": {
  "kernelspec": {
   "display_name": "myenv",
   "language": "python",
   "name": "python3"
  },
  "language_info": {
   "codemirror_mode": {
    "name": "ipython",
    "version": 3
   },
   "file_extension": ".py",
   "mimetype": "text/x-python",
   "name": "python",
   "nbconvert_exporter": "python",
   "pygments_lexer": "ipython3",
   "version": "3.7.13"
  },
  "orig_nbformat": 4,
  "vscode": {
   "interpreter": {
    "hash": "09ac0f642c4809c63ace70dc888cbd5b35159287af3895fb76989324c78b2f31"
   }
  }
 },
 "nbformat": 4,
 "nbformat_minor": 2
}
