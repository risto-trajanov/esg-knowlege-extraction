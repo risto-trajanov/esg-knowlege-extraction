{
 "cells": [
  {
   "cell_type": "code",
   "execution_count": 1,
   "metadata": {},
   "outputs": [],
   "source": [
    "import pandas as pd\n",
    "import yfinance as yf\n",
    "from datetime import datetime\n",
    "from gdeltdoc import GdeltDoc, Filters, near, repeat\n",
    "from newspaper import Article, ArticleException\n",
    "import feedparser\n",
    "import requests\n",
    "from urllib.parse import urlencode"
   ]
  },
  {
   "cell_type": "code",
   "execution_count": 2,
   "metadata": {},
   "outputs": [],
   "source": [
    "def get_articles_google(company:str, query:str, topic:str) -> pd.DataFrame:\n",
    "    query_url = urlencode({'q': company + query})\n",
    "    url = \"https://news.google.com/rss/search?\" + query_url\n",
    "    resp = requests.get(url)\n",
    "    news = feedparser.parse(resp.text)\n",
    "    all_news = []\n",
    "    for news_ent in news.entries:\n",
    "        title = news_ent.title\n",
    "        link_url = news_ent.links[0].href\n",
    "        lang = news_ent.title_detail.language\n",
    "        domain = news_ent.source.href\n",
    "        id = news_ent.id\n",
    "        published = news_ent.published\n",
    "        all_news.append([title, link_url, lang, domain, published, query, company, topic, company + \" \" + query])\n",
    "    all_news_df = pd.DataFrame(all_news, columns=['title', 'url', 'language', 'domain', 'date', 'query', 'company', 'topic', 'company_query'])\n",
    "    return all_news_df\n",
    "\n",
    "def crawl_google(companies:list, esg_dict:dict) -> pd.DataFrame:\n",
    "        print(\"GOOGLE CRAWL STARTED\")\n",
    "        all_new_dataset_google = []\n",
    "        for company in companies:\n",
    "            for topic, query_list in esg_dict.items():\n",
    "                for query in query_list:\n",
    "                    temp_df = get_articles_google(company=company, query=query, topic=topic)\n",
    "                    all_new_dataset_google.append(temp_df)\n",
    "        all_new_dataset_google_df = pd.concat(all_new_dataset_google)\n",
    "        \n",
    "        date_google = [datetime.strptime(date, '%a, %d %b %Y %H:%M:%S %Z') for date in all_new_dataset_google_df['date'].values.tolist()]\n",
    "        all_new_dataset_google_df['date'] = date_google\n",
    "        all_new_dataset_google_df['date'] = all_new_dataset_google_df['date'].astype(str)\n",
    "        all_new_dataset_google_df['crawl_source'] = 'google'\n",
    "        \n",
    "        return all_new_dataset_google_df"
   ]
  },
  {
   "cell_type": "code",
   "execution_count": 4,
   "metadata": {},
   "outputs": [],
   "source": [
    "from Static import taxonomy_new\n",
    "esg_queries = taxonomy_new.esg_dict"
   ]
  },
  {
   "cell_type": "code",
   "execution_count": 5,
   "metadata": {},
   "outputs": [],
   "source": [
    "# Chevron\n",
    "# Exxon\n",
    "# British Petroleum\n",
    "# Shell\n",
    "\n",
    "# Apple\n",
    "# Micorsoft\n",
    "# Tesla\n",
    "# Google\n",
    "\n",
    "# Bank of America\n",
    "# Goldman Sachs\n",
    "# Jp Morgan\n",
    "# Morgan Stanley\n",
    "\n",
    "companies_oil = ['Chevron', 'Exxon', 'British Petroleum', 'Shell']\n",
    "companies_tech = ['Apple', 'Micorsoft', 'Tesla', 'Google']\n",
    "companies_bank = ['Bank of America', 'Goldman Sachs', 'Jp Morgan', 'Morgan Stanley']"
   ]
  },
  {
   "cell_type": "code",
   "execution_count": null,
   "metadata": {},
   "outputs": [],
   "source": [
    "oil_news = crawl_google(companies_oil, esg_queries)\n",
    "tech_news = crawl_google(companies_tech, esg_queries)\n",
    "bank_news = crawl_google(companies_bank, esg_queries)"
   ]
  },
  {
   "cell_type": "code",
   "execution_count": null,
   "metadata": {},
   "outputs": [],
   "source": [
    "oil_news.to_csv('oil_news.csv')\n",
    "tech_news.to_csv('tech_news.csv')\n",
    "bank_news.to_csv('bank_news.csv')"
   ]
  },
  {
   "attachments": {},
   "cell_type": "markdown",
   "metadata": {},
   "source": [
    "## Get text from news"
   ]
  },
  {
   "cell_type": "code",
   "execution_count": 2,
   "metadata": {},
   "outputs": [],
   "source": [
    "def get_article(url):\n",
    "    article = Article(url)\n",
    "    article.download()\n",
    "    article.parse()\n",
    "    return article"
   ]
  },
  {
   "cell_type": "code",
   "execution_count": 5,
   "metadata": {},
   "outputs": [],
   "source": [
    "def process_for_label(df):\n",
    "    # good_values = df['query'].value_counts()[df['query'].value_counts() > 2].index.tolist()\n",
    "    # df_label = df[df['query'].isin(good_values)].groupby('query').apply(lambda x: x.sample(n=2))\n",
    "    url_texts = []\n",
    "    for url in df['url'].values.tolist():    \n",
    "        try:\n",
    "            text = get_article(url).text\n",
    "            if text:\n",
    "                url_texts.append(text)\n",
    "        except ArticleException:\n",
    "            print(f\"  Couldn't download article at url {url}\")\n",
    "    save_df = pd.DataFrame(url_texts, columns=['text'])\n",
    "    return save_df"
   ]
  },
  {
   "cell_type": "code",
   "execution_count": 6,
   "metadata": {},
   "outputs": [
    {
     "name": "stdout",
     "output_type": "stream",
     "text": [
      "  Couldn't download article at url https://news.google.com/rss/articles/CBMiigFodHRwczovL3RoZWhpbGwuY29tL3BvbGljeS9lbmVyZ3ktZW52aXJvbm1lbnQvMzc4MTkzMy1jb250cm92ZXJzaWFsLWFjdGl2aXN0LXN0ZXZlLWRvbnppZ2VyLWlzLWEtZm9say1oZXJvLXRvLXRoZS1sZWZ0LWEtZnJhdWQtdG8tYmlnLW9pbC_SAY4BaHR0cHM6Ly90aGVoaWxsLmNvbS9wb2xpY3kvZW5lcmd5LWVudmlyb25tZW50LzM3ODE5MzMtY29udHJvdmVyc2lhbC1hY3RpdmlzdC1zdGV2ZS1kb256aWdlci1pcy1hLWZvbGstaGVyby10by10aGUtbGVmdC1hLWZyYXVkLXRvLWJpZy1vaWwvYW1wLw?oc=5\n",
      "  Couldn't download article at url https://news.google.com/rss/articles/CBMikAFodHRwczovL3RoZWhpbGwuY29tL2hvbWVuZXdzL2hvdXNlLzM3NzkzMDUtcmVwb3J0LWRldGFpbGluZy1ncmVlbndhc2hpbmctYWRzLW9uLWdvb2dsZS1wcm9tcHRzLWRlbW9jcmF0aWMtbGF3bWFrZXJzLXRvLXdyaXRlLXNlYXJjaC1lbmdpbmVzLWNlby_SAZQBaHR0cHM6Ly90aGVoaWxsLmNvbS9ob21lbmV3cy9ob3VzZS8zNzc5MzA1LXJlcG9ydC1kZXRhaWxpbmctZ3JlZW53YXNoaW5nLWFkcy1vbi1nb29nbGUtcHJvbXB0cy1kZW1vY3JhdGljLWxhd21ha2Vycy10by13cml0ZS1zZWFyY2gtZW5naW5lcy1jZW8vYW1wLw?oc=5\n",
      "  Couldn't download article at url https://news.google.com/rss/articles/CBMicGh0dHBzOi8vdGhlaGlsbC5jb20vcG9saWN5L2VuZXJneS1lbnZpcm9ubWVudC81OTA3ODUtaG91c2UtcGFuZWwtYXNrcy1maXZlLW9pbC1jb21wYW55LWJvYXJkLW1lbWJlcnMtdG8tdGVzdGlmeS_SAXRodHRwczovL3RoZWhpbGwuY29tL3BvbGljeS9lbmVyZ3ktZW52aXJvbm1lbnQvNTkwNzg1LWhvdXNlLXBhbmVsLWFza3MtZml2ZS1vaWwtY29tcGFueS1ib2FyZC1tZW1iZXJzLXRvLXRlc3RpZnkvYW1wLw?oc=5\n",
      "  Couldn't download article at url https://news.google.com/rss/articles/CBMiZGh0dHBzOi8vdGhlaGlsbC5jb20vcG9saWN5L2VuZXJneS1lbnZpcm9ubWVudC81ODQyMzQtZGVtb2NyYXRzLXByZXNzLWRyaWxsZXJzLWZvci1tZXRoYW5lLWxlYWstZGF0YS_SAWhodHRwczovL3RoZWhpbGwuY29tL3BvbGljeS9lbmVyZ3ktZW52aXJvbm1lbnQvNTg0MjM0LWRlbW9jcmF0cy1wcmVzcy1kcmlsbGVycy1mb3ItbWV0aGFuZS1sZWFrLWRhdGEvYW1wLw?oc=5\n",
      "  Couldn't download article at url https://news.google.com/rss/articles/CBMiXmh0dHBzOi8vcmVkZ3JlZW5hbmRibHVlLm9yZy8yMDIxLzA4LzA0L2dyZWVudHJvbGxpbmctdnMtZ3JlZW53YXNoaW5nLWVsZWdhbnQtY2xpbWF0ZS1zb2x1dGlvbi_SAQA?oc=5\n",
      "  Couldn't download article at url https://news.google.com/rss/articles/CBMiZWh0dHBzOi8vd3d3LmFiYy5uZXQuYXUvbmV3cy9zY2llbmNlLzIwMjEtMTEtMDYvY2FyYm9uLWNhcHR1cmUtc3RvcmFnZS1jb2FsLWdhcy1mb3NzaWwtZnVlbHMvMTAwNTg1MDM00gEoaHR0cHM6Ly9hbXAuYWJjLm5ldC5hdS9hcnRpY2xlLzEwMDU4NTAzNA?oc=5\n",
      "  Couldn't download article at url https://news.google.com/rss/articles/CBMiVmh0dHBzOi8vd3d3Lm5ld3N3ZWVrLmNvbS9jYWxpZm9ybmlhLWZhcm1lcnMtcmVseS1vaWwtd2FzdGV3YXRlci13ZWF0aGVyLWRyb3VnaHQtMzE5NjQ40gFcaHR0cHM6Ly93d3cubmV3c3dlZWsuY29tL2NhbGlmb3JuaWEtZmFybWVycy1yZWx5LW9pbC13YXN0ZXdhdGVyLXdlYXRoZXItZHJvdWdodC0zMTk2NDg_YW1wPTE?oc=5\n",
      "  Couldn't download article at url https://news.google.com/rss/articles/CBMiSGh0dHBzOi8vd3d3LmJhcnJvbnMuY29tL2FydGljbGVzL29pbC1jb21wYW5pZXMtZ3JlZW5lci1tb25leS01MTY2Nzk0NjMzMdIBTGh0dHBzOi8vd3d3LmJhcnJvbnMuY29tL2FtcC9hcnRpY2xlcy9vaWwtY29tcGFuaWVzLWdyZWVuZXItbW9uZXktNTE2Njc5NDYzMzE?oc=5\n",
      "  Couldn't download article at url https://news.google.com/rss/articles/CBMigQFodHRwczovL3d3dy5yaXZpZXJhbW0uY29tL25ld3MtY29udGVudC1odWIvbmV3cy1jb250ZW50LWh1Yi9jaGV2cm9uLWxvdy1jY2FpLWhpZ2gtZWNuLXZsc2ZvLWJsZW5kcy1jb3VsZC1oYXJtLW9sZGVyLWVuZ2luZXMtNjI4NTjSAQA?oc=5\n",
      "  Couldn't download article at url https://news.google.com/rss/articles/CBMiZWh0dHBzOi8vd3d3LmJ1aWxkZXJvbmxpbmUuY29tL3Byb2R1Y3RzL2ZpbmlzaGVzLXN1cmZhY2VzL3RyeS10aGVzZS1uZXctY291bnRlcnRvcC1wYXR0ZXJucy1wcm9maWxlc19v0gEA?oc=5\n",
      "  Couldn't download article at url https://news.google.com/rss/articles/CBMibWh0dHBzOi8vd3d3LmJpempvdXJuYWxzLmNvbS9zYW5hbnRvbmlvL25ld3MvMjAyMC8wMS8yOC9taWNyb3NvZnQtYnVpbGRpbmctbWFzc2l2ZS1leHBhbnNpb24tb24td2VzdC1zaWRlLmh0bWzSAQA?oc=5\n",
      "  Couldn't download article at url https://news.google.com/rss/articles/CBMibmh0dHBzOi8vd3d3LmJpempvdXJuYWxzLmNvbS9zYW5hbnRvbmlvL25ld3MvMjAxNy8xMS8wOS9taWNyb3NvZnQtYnV5cy1jaGV2cm9ucy1kYXRhLWNlbnRlci1pbi1zYW4tYW50b25pby5odG1s0gEA?oc=5\n",
      "  Couldn't download article at url https://news.google.com/rss/articles/CBMibWh0dHBzOi8vd3d3LmJpempvdXJuYWxzLmNvbS9zYW5hbnRvbmlvL25ld3MvMjAxOC8wNy8wNi9kZWZlbnNlLWluZHVzdHJ5LXJlaXQtcGxhbnMtbmV3LTIyLTVtLWRhdGEtY2VudGVyLmh0bWzSAQA?oc=5\n",
      "  Couldn't download article at url https://news.google.com/rss/articles/CBMibWh0dHBzOi8vd3d3LmJpempvdXJuYWxzLmNvbS9zYW5hbnRvbmlvL25ld3MvMjAyMC8wMS8yOC9taWNyb3NvZnQtYnVpbGRpbmctbWFzc2l2ZS1leHBhbnNpb24tb24td2VzdC1zaWRlLmh0bWzSAQA?oc=5\n",
      "  Couldn't download article at url https://news.google.com/rss/articles/CBMibmh0dHBzOi8vd3d3LmJpempvdXJuYWxzLmNvbS9zYW5hbnRvbmlvL25ld3MvMjAxNy8xMS8wOS9taWNyb3NvZnQtYnV5cy1jaGV2cm9ucy1kYXRhLWNlbnRlci1pbi1zYW4tYW50b25pby5odG1s0gEA?oc=5\n",
      "  Couldn't download article at url https://news.google.com/rss/articles/CBMibWh0dHBzOi8vd3d3LmJpempvdXJuYWxzLmNvbS9zYW5hbnRvbmlvL25ld3MvMjAxOC8wNy8wNi9kZWZlbnNlLWluZHVzdHJ5LXJlaXQtcGxhbnMtbmV3LTIyLTVtLWRhdGEtY2VudGVyLmh0bWzSAQA?oc=5\n",
      "  Couldn't download article at url https://news.google.com/rss/articles/CBMigwFodHRwczovL3JpY2htb25kc3RhbmRhcmQuY29tL3JpY2htb25kLzIwMTkvMTEvMDUvY2hldnJvbi1jb21tdW5pdHktdG91ci1kYXktbWFya3MtaGlzdG9yaWMtbW9tZW50LWZvci1sb2NhbC1lbnZpcm9ubWVudGFsLWFjdGl2aXN0L9IBhwFodHRwczovL3JpY2htb25kc3RhbmRhcmQuY29tL3JpY2htb25kLzIwMTkvMTEvMDUvY2hldnJvbi1jb21tdW5pdHktdG91ci1kYXktbWFya3MtaGlzdG9yaWMtbW9tZW50LWZvci1sb2NhbC1lbnZpcm9ubWVudGFsLWFjdGl2aXN0L2FtcC8?oc=5\n",
      "  Couldn't download article at url https://news.google.com/rss/articles/CBMibmh0dHBzOi8vcmljaG1vbmRzdGFuZGFyZC5jb20vcmljaG1vbmQvMjAyMi8wNi8wNy9ub3J0aC1yaWNobW9uZC1jZW50ZXItdG8tYmUtcmVuYW1lZC1hZnRlci1sb25ndGltZS1zdXBwb3J0ZXIv0gFyaHR0cHM6Ly9yaWNobW9uZHN0YW5kYXJkLmNvbS9yaWNobW9uZC8yMDIyLzA2LzA3L25vcnRoLXJpY2htb25kLWNlbnRlci10by1iZS1yZW5hbWVkLWFmdGVyLWxvbmd0aW1lLXN1cHBvcnRlci9hbXAv?oc=5\n",
      "  Couldn't download article at url https://news.google.com/rss/articles/CBMigAFodHRwczovL3JpY2htb25kc3RhbmRhcmQuY29tL3JpY2htb25kLzIwMTkvMTEvMDUvbnlzdHJvbS1lbGVtZW50YXJ5LXRlbXBvcmFyaWx5LWxvY2tlZC1kb3duLWFmdGVyLWZsZWVpbmctc3VzcGVjdC1lbnRlcnMtY2FtcHVzL9IBhAFodHRwczovL3JpY2htb25kc3RhbmRhcmQuY29tL3JpY2htb25kLzIwMTkvMTEvMDUvbnlzdHJvbS1lbGVtZW50YXJ5LXRlbXBvcmFyaWx5LWxvY2tlZC1kb3duLWFmdGVyLWZsZWVpbmctc3VzcGVjdC1lbnRlcnMtY2FtcHVzL2FtcC8?oc=5\n",
      "  Couldn't download article at url https://news.google.com/rss/articles/CBMiU2h0dHBzOi8vd3d3LnZhbmd1YXJkbmdyLmNvbS8yMDE4LzAxL2NoaWVmLWVtYW1pLWl0c2VraXJpLXByaW1lLW1pbmlzdGVyLWV4cGxvZGVzLTIv0gFXaHR0cHM6Ly93d3cudmFuZ3VhcmRuZ3IuY29tLzIwMTgvMDEvY2hpZWYtZW1hbWktaXRzZWtpcmktcHJpbWUtbWluaXN0ZXItZXhwbG9kZXMtMi9hbXAv?oc=5\n",
      "  Couldn't download article at url https://news.google.com/rss/articles/CBMiUmh0dHBzOi8vd3d3LnZhbmd1YXJkbmdyLmNvbS8yMDEzLzEwL2NoZXZyb24tY29tbXVuaXRpZXMtYmVuZWZpdC1uZXctZ21vdS1wcm9qZWN0cy_SAVZodHRwczovL3d3dy52YW5ndWFyZG5nci5jb20vMjAxMy8xMC9jaGV2cm9uLWNvbW11bml0aWVzLWJlbmVmaXQtbmV3LWdtb3UtcHJvamVjdHMvYW1wLw?oc=5\n",
      "  Couldn't download article at url https://news.google.com/rss/articles/CBMiemh0dHBzOi8vd3d3LnNlYXR0bGV0aW1lcy5jb20vc2VhdHRsZS1uZXdzL3B1Z2V0LXNvdW5kL2l0cy1nb2luZy10by1iZS1vay1hLXNhbHZhdGlvbi1hcm15LXNhZmV0eS1uZXQtaW4tdGltZXMtb2Ytc3RydWdnbGUv0gEA?oc=5\n",
      "  Couldn't download article at url https://news.google.com/rss/articles/CBMiUGh0dHBzOi8vd3d3LnZhbmd1YXJkbmdyLmNvbS8yMDEyLzAxL2V4cGxvc2lvbi1yb2Nrcy1jaGV2cm9uLWZhY2lsaXR5LWluLWJheWVsc2Ev0gFUaHR0cHM6Ly93d3cudmFuZ3VhcmRuZ3IuY29tLzIwMTIvMDEvZXhwbG9zaW9uLXJvY2tzLWNoZXZyb24tZmFjaWxpdHktaW4tYmF5ZWxzYS9hbXAv?oc=5\n",
      "  Couldn't download article at url https://news.google.com/rss/articles/CBMiemh0dHBzOi8vdmFuY291dmVyc3VuLmNvbS9idXNpbmVzcy9sb2NhbC1idXNpbmVzcy9jaGV2cm9uLXB1dHMtYnVybmFieS1vaWwtcmVmaW5lcnktYi1jLWRpc3RyaWJ1dGlvbi1uZXR3b3JrLW9uLXNhbGVzLWJsb2Nr0gGoAWh0dHBzOi8vdmFuY291dmVyc3VuLmNvbS9idXNpbmVzcy9sb2NhbC1idXNpbmVzcy9jaGV2cm9uLXB1dHMtYnVybmFieS1vaWwtcmVmaW5lcnktYi1jLWRpc3RyaWJ1dGlvbi1uZXR3b3JrLW9uLXNhbGVzLWJsb2NrL3djbS9mZTc4YmFiOC0wOWExLTQ3MzgtOWI1OS1iYzMyYjBjYmEzZWUvYW1wLw?oc=5\n"
     ]
    },
    {
     "name": "stderr",
     "output_type": "stream",
     "text": [
      "c:\\Users\\Risto Trajanov\\anaconda3\\envs\\myenv\\lib\\site-packages\\dateutil\\parser\\_parser.py:1218: UnknownTimezoneWarning: tzname PST identified but not understood.  Pass `tzinfos` argument in order to correctly return a timezone-aware datetime.  In a future version, this will raise an exception.\n",
      "  category=UnknownTimezoneWarning)\n"
     ]
    },
    {
     "name": "stdout",
     "output_type": "stream",
     "text": [
      "  Couldn't download article at url https://news.google.com/rss/articles/CBMiVmh0dHBzOi8vd3d3LnZhbmd1YXJkbmdyLmNvbS8yMDE2LzAzL2VrcGFuLWNyaXNpcy1mb3JnaXZlLXVzLWNvbW11bml0eS1oZWFkLWJlZ3Mtb2tvd2Ev0gFaaHR0cHM6Ly93d3cudmFuZ3VhcmRuZ3IuY29tLzIwMTYvMDMvZWtwYW4tY3Jpc2lzLWZvcmdpdmUtdXMtY29tbXVuaXR5LWhlYWQtYmVncy1va293YS9hbXAv?oc=5\n"
     ]
    },
    {
     "name": "stderr",
     "output_type": "stream",
     "text": [
      "c:\\Users\\Risto Trajanov\\anaconda3\\envs\\myenv\\lib\\site-packages\\dateutil\\parser\\_parser.py:1218: UnknownTimezoneWarning: tzname CDT identified but not understood.  Pass `tzinfos` argument in order to correctly return a timezone-aware datetime.  In a future version, this will raise an exception.\n",
      "  category=UnknownTimezoneWarning)\n"
     ]
    },
    {
     "name": "stdout",
     "output_type": "stream",
     "text": [
      "  Couldn't download article at url https://news.google.com/rss/articles/CBMiYGh0dHBzOi8vd3d3LmFhLmNvbS50ci9lbi9hc2lhLXBhY2lmaWMvdXMtZmlybS1jaGV2cm9uLW9mZmVyaW5nLWxpZmVsaW5lLXRvLW15YW5tYXItanVudGEvMjIyNjYzONIBAA?oc=5\n",
      "  Couldn't download article at url https://news.google.com/rss/articles/CBMicWh0dHBzOi8vdGhlaGlsbC5jb20vaGlsbHR2L3Jpc2luZy81NTczODgtc3RldmVuLWRvbnppZ2VyLXNheXMtY2hldnJvbi1sYXd5ZXItd29ya2luZy1mb3ItbnktdGltZXMtaXMtY29uZmxpY3Qtb2Yv0gEA?oc=5\n",
      "  Couldn't download article at url https://news.google.com/rss/articles/CBMiU2h0dHBzOi8vd3d3LnN1bmhlcmFsZC5jb20vbmV3cy9sb2NhbC9jb3VudGllcy9oYXJyaXNvbi1jb3VudHkvYXJ0aWNsZTIzMjE1MTk0Ny5odG1s0gEA?oc=5\n",
      "  Couldn't download article at url https://news.google.com/rss/articles/CBMiTGh0dHBzOi8vd3d3LmNvdXJ0aG91c2VuZXdzLmNvbS9jaGV2cm9uLW1vbnRlcmV5LWNvdW50eS1pbi1zdGFuZG9mZi1vdmVyLW9pbC_SAQA?oc=5\n",
      "  Couldn't download article at url https://news.google.com/rss/articles/CBMiqwFodHRwczovL3d3dy53c2ouY29tL2FydGljbGVzL3NoYXJlaG9sZGVycy1zdGFuZC11cC1mb3ItcHJvZml0LWF0LWNoZXZyb24tZXNnLWJpZy10aHJlZS1ibGFja3JvY2stdmFuZ3VhcmQtc3RhdGUtc3RyZWV0LXBhcmlzLWFncmVlbWVudC1zY29wZS0zLWVtaXNzaW9ucy1zdHJpdmUtMTE2NjI1NTgzOTXSAQA?oc=5\n",
      "  Couldn't download article at url https://news.google.com/rss/articles/CBMiqwFodHRwczovL3d3dy53c2ouY29tL2FydGljbGVzL3NoYXJlaG9sZGVycy1zdGFuZC11cC1mb3ItcHJvZml0LWF0LWNoZXZyb24tZXNnLWJpZy10aHJlZS1ibGFja3JvY2stdmFuZ3VhcmQtc3RhdGUtc3RyZWV0LXBhcmlzLWFncmVlbWVudC1zY29wZS0zLWVtaXNzaW9ucy1zdHJpdmUtMTE2NjI1NTgzOTXSAQA?oc=5\n",
      "  Couldn't download article at url https://news.google.com/rss/articles/CBMiSmh0dHBzOi8vd3d3LmJhcnJvbnMuY29tL2FydGljbGVzL2V4eG9uLWNhcmJvbi1jYXB0dXJlLWNvbnRyYWN0LTUxNjY1NjA2MTky0gFOaHR0cHM6Ly93d3cuYmFycm9ucy5jb20vYW1wL2FydGljbGVzL2V4eG9uLWNhcmJvbi1jYXB0dXJlLWNvbnRyYWN0LTUxNjY1NjA2MTky?oc=5\n",
      "  Couldn't download article at url https://news.google.com/rss/articles/CBMiX2h0dHBzOi8vd3d3LmZvcmJlcy5jb20vc2l0ZXMvamFtZXNjb25jYS8yMDE2LzEyLzI3L2l0LXRha2VzLXRoZS1yaWdodC1yb2NrLXRvLXNlcXVlc3Rlci1jYXJib24v0gEA?oc=5\n",
      "  Couldn't download article at url https://news.google.com/rss/articles/CBMiU2h0dHBzOi8vd3d3LmludmVzdG9ycy5jb20vbmV3cy9jYXJib24tY2FwdHVyZS1vaWwtaW5kdXN0cnktcHJvZHVjdGlvbi1uZXQtemVyby1lc2cv0gEA?oc=5\n",
      "  Couldn't download article at url https://news.google.com/rss/articles/CBMiZWh0dHBzOi8vd3d3Lndzai5jb20vYXJ0aWNsZXMvZXh4b24tYmV0cy1vbi1leC1hdXRvLWV4ZWN1dGl2ZS1mb3ItY2xpbWF0ZS1mcmllbmRseS1wcm9maXRzLTExNjY1OTEyNzgy0gEA?oc=5\n",
      "  Couldn't download article at url https://news.google.com/rss/articles/CBMia2h0dHBzOi8vd3d3LmJpempvdXJuYWxzLmNvbS9ob3VzdG9uL25ld3MvMjAyMi8wMy8yNC9leHhvbi1sb3ctY2FyYm9uLXNvbHV0aW9ucy1nbS1wcmVzaWRlbnQtZGFuLWFtbWFubi5odG1s0gEA?oc=5\n",
      "  Couldn't download article at url https://news.google.com/rss/articles/CBMiTGh0dHBzOi8vd3d3LmJhcnJvbnMuY29tL2FydGljbGVzL2J1eS1icC1leHhvbi1zdG9jay1ncmVlbi1lbmVyZ3ktNTE2NjYzMDkwNDnSAVBodHRwczovL3d3dy5iYXJyb25zLmNvbS9hbXAvYXJ0aWNsZXMvYnV5LWJwLWV4eG9uLXN0b2NrLWdyZWVuLWVuZXJneS01MTY2NjMwOTA0OQ?oc=5\n",
      "  Couldn't download article at url https://news.google.com/rss/articles/CBMijAFodHRwczovL3d3dy5mb3JiZXMuY29tL3NpdGVzL3FhaS8yMDIyLzEwLzE0L2lzLWJpZy1vaWwtYWxyZWFkeS1iZWNvbWluZy1iaWctbmF0dXJhbC1nYXMtaGVyZS1hcmUtdGhlLTUtYmlnZ2VzdC1uYXR1cmFsLWdhcy1zdG9ja3Mtd29ybGR3aWRlL9IBkAFodHRwczovL3d3dy5mb3JiZXMuY29tL3NpdGVzL3FhaS8yMDIyLzEwLzE0L2lzLWJpZy1vaWwtYWxyZWFkeS1iZWNvbWluZy1iaWctbmF0dXJhbC1nYXMtaGVyZS1hcmUtdGhlLTUtYmlnZ2VzdC1uYXR1cmFsLWdhcy1zdG9ja3Mtd29ybGR3aWRlL2FtcC8?oc=5\n",
      "  Couldn't download article at url https://news.google.com/rss/articles/CBMiS2h0dHBzOi8vd3d3LmJhcnJvbnMuY29tL2FydGljbGVzL2V4eG9uLXN0b2NrLWRpdmlkZW5kcy1idXliYWNrcy01MTY1MjIwMTIyNdIBT2h0dHBzOi8vd3d3LmJhcnJvbnMuY29tL2FtcC9hcnRpY2xlcy9leHhvbi1zdG9jay1kaXZpZGVuZHMtYnV5YmFja3MtNTE2NTIyMDEyMjU?oc=5\n",
      "  Couldn't download article at url https://news.google.com/rss/articles/CBMiaWh0dHBzOi8vaW1wYWN0YWxwaGEuY29tL2VuZ2luZS1uby0xLW9wdHMtZm9yLWFjY29tbW9kYXRpb24tb3Zlci1jb25mcm9udGF0aW9uLXdpdGgtYmlnLW9pbC1hbmQtYmlnLWJhbmtzL9IBAA?oc=5\n",
      "  Couldn't download article at url https://news.google.com/rss/articles/CBMiXGh0dHBzOi8vb2JpdHMudGhlYWR2b2NhdGUuY29tL3VzL29iaXR1YXJpZXMvdGhlYWR2b2NhdGUvbmFtZS9qb2huLWFsbGVuLW9iaXR1YXJ5P2lkPTM2ODk0Njk10gEA?oc=5\n"
     ]
    },
    {
     "name": "stderr",
     "output_type": "stream",
     "text": [
      "c:\\Users\\Risto Trajanov\\anaconda3\\envs\\myenv\\lib\\site-packages\\dateutil\\parser\\_parser.py:1218: UnknownTimezoneWarning: tzname CST identified but not understood.  Pass `tzinfos` argument in order to correctly return a timezone-aware datetime.  In a future version, this will raise an exception.\n",
      "  category=UnknownTimezoneWarning)\n"
     ]
    },
    {
     "name": "stdout",
     "output_type": "stream",
     "text": [
      "  Couldn't download article at url https://news.google.com/rss/articles/CBMiswFodHRwczovL3d3dy55b3Jrc2hpcmVwb3N0LmNvLnVrL3Nwb3J0L2Zvb3RiYWxsL21hbmNoZXN0ZXItdW5pdGVkL3doby1pcy1zaXItamltLXJhdGNsaWZmZS10aGUteW9ya3NoaXJlLWVkdWNhdGVkLWJpbGxpb25haXJlLXdoby1pcy1pbi10aGUtcnVubmluZy10by1idXktbWFuY2hlc3Rlci11bml0ZWQtMzk5MTgzOdIBAA?oc=5\n",
      "  Couldn't download article at url https://news.google.com/rss/articles/CBMiUmh0dHBzOi8vd3d3LmJhcnJvbnMuY29tL2FydGljbGVzL2V4eG9uLW1vYmlsLXN0b2NrLXByaWNlLWFuYWx5c3Qtd3JvbmctNTE2NDI2MTEwMTbSAQA?oc=5\n",
      "  Couldn't download article at url https://news.google.com/rss/articles/CBMikwFodHRwczovL3d3dy5uYXRpb25hbHdvcmxkLmNvbS9uZXdzL3Blb3BsZS9ob3ctZGlkLXNpci1qaW0tcmF0Y2xpZmZlLW1ha2UtaGlzLW1vbmV5LWluZW9zLWNlby1uZXQtd29ydGgtMjAyMi1tYW4tdXRkLWxpbmtzLXJpY2hlc3QtcGVyc29uLXVrLTM4MTA4ODDSAQA?oc=5\n",
      "  Couldn't download article at url https://news.google.com/rss/articles/CBMimAFodHRwczovL3d3dy50aGVtZXJjdXJ5LmNvbS5hdS9saWZlc3R5bGUvdGFzc2llLWZpbG1tYWtlcnMtZG9jby1hLXBsYXN0aWMtb2NlYW4taGlnaGxpZ2h0cy1hLWdsb2JhbC1lbWVyZ2VuY3kvbmV3cy1zdG9yeS8zMDE4NmZjYmNhOWFmMTI0MDM3ZTEwNzliNzk2YTJjY9IBnAFodHRwczovL3d3dy50aGVtZXJjdXJ5LmNvbS5hdS9saWZlc3R5bGUvdGFzc2llLWZpbG1tYWtlcnMtZG9jby1hLXBsYXN0aWMtb2NlYW4taGlnaGxpZ2h0cy1hLWdsb2JhbC1lbWVyZ2VuY3kvbmV3cy1zdG9yeS8zMDE4NmZjYmNhOWFmMTI0MDM3ZTEwNzliNzk2YTJjYz9hbXA?oc=5\n",
      "  Couldn't download article at url https://news.google.com/rss/articles/CBMidmh0dHBzOi8vd3d3Lndzai5jb20vYXJ0aWNsZXMvZXh4b24td29ya2luZy10b3dhcmQtcmVzdGFydGluZy1iYXl0b3duLXJlZmluZXJ5LXRoZS1zZWNvbmQtbGFyZ2VzdC1pbi10aGUtdS1zLTE1MDQ0NTA1MTnSAQA?oc=5\n",
      "  Couldn't download article at url https://news.google.com/rss/articles/CBMibGh0dHBzOi8vd3d3Lm5ld3N3ZWVrLmNvbS9yZXgtdGlsbGVyc29ucy1leHhvbi1tb2JpbGUtaW52b2x2ZWQtY29ycnVwdC1vaWwtZGVhbHMtbGliZXJpYS1pbnZlc3RpZ2F0aW9uLTg2NjAyNtIBcmh0dHBzOi8vd3d3Lm5ld3N3ZWVrLmNvbS9yZXgtdGlsbGVyc29ucy1leHhvbi1tb2JpbGUtaW52b2x2ZWQtY29ycnVwdC1vaWwtZGVhbHMtbGliZXJpYS1pbnZlc3RpZ2F0aW9uLTg2NjAyNj9hbXA9MQ?oc=5\n",
      "  Couldn't download article at url https://news.google.com/rss/articles/CBMiggFodHRwczovL3d3dy5kZW1vY3JhY3lub3cub3JnLzIwMjEvNy8xL2hlYWRsaW5lcy9yZXBvcnRfcGFsZXN0aW5pYW5fYXV0aG9yaXR5X2Fza3NfaXNyYWVsX2Zvcl9tdW5pdGlvbnNfdG9fcXVlbGxfd2VzdF9iYW5rX3Byb3Rlc3Rz0gEA?oc=5\n",
      "  Couldn't download article at url https://news.google.com/rss/articles/CBMijQFodHRwczovL3d3dy5kZW1vY3JhY3lub3cub3JnLzIwMjEvNy8xL2hlYWRsaW5lcy9iaWxsX2Nvc2J5X3JlbGVhc2VkX2Zyb21famFpbF9hZnRlcl9jb3VydF9vdmVydHVybnNfc2V4dWFsX2Fzc2F1bHRfY29udmljdGlvbl9vbl90ZWNobmljYWxpdHnSAQA?oc=5\n",
      "  Couldn't download article at url https://news.google.com/rss/articles/CBMiemh0dHBzOi8vd3d3LmZvcmJlcy5jb20vc2l0ZXMvZGF2aWRibGFja21vbi8yMDE5LzExLzA3L3RoZS1jaGlsbGluZy1pbXBhY3Qtb2YtdGhlLW5ldy15b3JrLWNsaW1hdGUtc3VpdC1hZ2FpbnN0LWV4eG9ubW9iaWwv0gF-aHR0cHM6Ly93d3cuZm9yYmVzLmNvbS9zaXRlcy9kYXZpZGJsYWNrbW9uLzIwMTkvMTEvMDcvdGhlLWNoaWxsaW5nLWltcGFjdC1vZi10aGUtbmV3LXlvcmstY2xpbWF0ZS1zdWl0LWFnYWluc3QtZXh4b25tb2JpbC9hbXAv?oc=5\n",
      "  Couldn't download article at url https://news.google.com/rss/articles/CBMiV2h0dHBzOi8vd3d3Lm1pYW1paGVyYWxkLmNvbS9uZXdzL25hdGlvbi13b3JsZC93b3JsZC9hbWVyaWNhcy9jdWJhL2FydGljbGUyNDYzMDkzMDAuaHRtbNIBV2h0dHBzOi8vYW1wLm1pYW1paGVyYWxkLmNvbS9uZXdzL25hdGlvbi13b3JsZC93b3JsZC9hbWVyaWNhcy9jdWJhL2FydGljbGUyNDYzMDkzMDAuaHRtbA?oc=5\n"
     ]
    }
   ],
   "source": [
    "df = pd.read_csv('./data/news/oil_news.csv')\n",
    "save_df = process_for_label(df)\n",
    "save_df.to_csv('./data/news/oil_label_test.csv')"
   ]
  },
  {
   "cell_type": "code",
   "execution_count": 6,
   "metadata": {},
   "outputs": [
    {
     "name": "stdout",
     "output_type": "stream",
     "text": [
      "  Couldn't download article at url https://news.google.com/rss/articles/CBMiTGh0dHBzOi8vc2NyZWVucmFudC5jb20vZ29vZ2xlLWFjY291bnQtaW5hY3RpdmUtZW1haWwtd2FybmluZy1zY2FtLWV4cGxhaW5lZC_SAQA?oc=5\n",
      "  Couldn't download article at url https://news.google.com/rss/articles/CBMiaWh0dHBzOi8vbmV3cy5zb2Z0cGVkaWEuY29tL25ld3MvR29vZ2xlLURlYnV0cy1HbG9iYWwtRGVmb3Jlc3RhdGlvbi1NYXAtdGhlLUZpcnN0LW9mLUl0cy1LaW5kLTQwMDUxNi5zaHRtbNIBAA?oc=5\n",
      "  Couldn't download article at url https://news.google.com/rss/articles/CBMicmh0dHBzOi8vd3d3Lndzai5jb20vYXJ0aWNsZXMvdGVjaC1jeWJlci1jb21wYW5pZXMtbGF1bmNoLXNlY3VyaXR5LXN0YW5kYXJkLXRvLW1vbml0b3ItaGFja2luZy1hdHRlbXB0cy0xMTY2MDEyMzgwMtIBdmh0dHBzOi8vd3d3Lndzai5jb20vYW1wL2FydGljbGVzL3RlY2gtY3liZXItY29tcGFuaWVzLWxhdW5jaC1zZWN1cml0eS1zdGFuZGFyZC10by1tb25pdG9yLWhhY2tpbmctYXR0ZW1wdHMtMTE2NjAxMjM4MDI?oc=5\n"
     ]
    }
   ],
   "source": [
    "df = pd.read_csv('./data/news/tech_news.csv')\n",
    "save_df = process_for_label(df)\n",
    "save_df.to_csv('./data/news/tech_label.csv')"
   ]
  },
  {
   "cell_type": "code",
   "execution_count": 7,
   "metadata": {},
   "outputs": [
    {
     "name": "stdout",
     "output_type": "stream",
     "text": [
      "  Couldn't download article at url https://news.google.com/rss/articles/CBMiZ2h0dHBzOi8vdGhlaGlsbC5jb20vcG9saWN5L2VuZXJneS1lbnZpcm9ubWVudC81NzQ0MjEtMTEtYmlyZHMtMi1maXNoLWFtb25nLTIzLXNwZWNpZXMtZGVjbGFyZWQtZXh0aW5jdC_SAWtodHRwczovL3RoZWhpbGwuY29tL3BvbGljeS9lbmVyZ3ktZW52aXJvbm1lbnQvNTc0NDIxLTExLWJpcmRzLTItZmlzaC1hbW9uZy0yMy1zcGVjaWVzLWRlY2xhcmVkLWV4dGluY3QvYW1wLw?oc=5\n",
      "  Couldn't download article at url https://news.google.com/rss/articles/CBMidWh0dHBzOi8vd3d3LmZvcmJlcy5jb20vZm9yYmVzLzIwMTAvMDkyNy9wb2xpdGljcy1zb2NpYWxpc20tY2FwaXRhbGlzbS1wcml2YXRlLWVudGVycHJpc2VzLW9iYW1hLWJ1c2luZXNzLXByb2JsZW0uaHRtbNIBAA?oc=5\n",
      "  Couldn't download article at url https://news.google.com/rss/articles/CBMihgFodHRwczovL3d3dy5mb3JiZXMuY29tL3NpdGVzL2ppbWNsYXNoLzIwMjIvMDgvMTIvcm9nZXItZGFsdHJleS1vbi1rbmlnaHRob29kLWZlYXItZGVhdGgtbXIta2liYmxld2hpdGUtbWFyaW8tYW5kcmV0dGktaGlzLW93bi1lcGl0YXBoL9IBigFodHRwczovL3d3dy5mb3JiZXMuY29tL3NpdGVzL2ppbWNsYXNoLzIwMjIvMDgvMTIvcm9nZXItZGFsdHJleS1vbi1rbmlnaHRob29kLWZlYXItZGVhdGgtbXIta2liYmxld2hpdGUtbWFyaW8tYW5kcmV0dGktaGlzLW93bi1lcGl0YXBoL2FtcC8?oc=5\n",
      "  Couldn't download article at url https://news.google.com/rss/articles/CBMiZGh0dHBzOi8vd3d3LndoaWNoY2FyLmNvbS5hdS9jYXItbmV3cy9za29kYS1hbmQtaXN1enUtdXRlLXRvcC1hdXN0cmFsaWFuLWN1c3RvbWVyLXNhdGlzZmFjdGlvbi1zdXJ2ZXnSAQA?oc=5\n",
      "  Couldn't download article at url https://news.google.com/rss/articles/CBMiTWh0dHBzOi8vd3d3LmJpempvdXJuYWxzLmNvbS9jaW5jaW5uYXRpL25ld3MvMjAyMi8wOC8yMi9tb3JnYW4taGVhbHRoLWNlby5odG1s0gEA?oc=5\n",
      "  Couldn't download article at url https://news.google.com/rss/articles/CBMiTGh0dHBzOi8vc2NyZWVucmFudC5jb20vY2FwdGFpbi1hbWVyaWNhLXNlY3JldC1hdmVuZ2Vycy1wYWlkLWFmdGVyLWNpdmlsLXdhci_SAQA?oc=5\n",
      "  Couldn't download article at url https://news.google.com/rss/articles/CBMigQFodHRwczovL3RoZWhpbGwuY29tL3JlZ3VsYXRpb24vY291cnQtYmF0dGxlcy8zNzQ5NDA4LWplZmZyZXktZXBzdGVpbi1hY2N1c2Vycy1zdWUtYmFua3MtdGhleS1hbGxlZ2UtZmFjaWxpdGF0aW5nLXNleC10cmFmZmlja2luZy_SAYUBaHR0cHM6Ly90aGVoaWxsLmNvbS9yZWd1bGF0aW9uL2NvdXJ0LWJhdHRsZXMvMzc0OTQwOC1qZWZmcmV5LWVwc3RlaW4tYWNjdXNlcnMtc3VlLWJhbmtzLXRoZXktYWxsZWdlLWZhY2lsaXRhdGluZy1zZXgtdHJhZmZpY2tpbmcvYW1wLw?oc=5\n"
     ]
    }
   ],
   "source": [
    "df = pd.read_csv('./data/news/bank_news.csv')\n",
    "save_df = process_for_label(df)\n",
    "save_df.to_csv('./data/news/bank_label.csv')"
   ]
  },
  {
   "cell_type": "code",
   "execution_count": 2,
   "metadata": {},
   "outputs": [
    {
     "data": {
      "text/plain": [
       "['',\n",
       " '1 \\t',\n",
       " 'https://www.ifrs.org/news-and-events/news/2019/11/nick-anderson-ifrs-standards-and-climate-related-disclosures/',\n",
       " '',\n",
       " '2 \\t',\n",
       " 'https://www.fasb.org/cs/BlobServer?blobkey=id&blobnocache=true&blobwhere=1175836268408&blobheader=application%2Fpdf& blobheadername2=Content-Length&blobheadername1=Content-Disposition&blobheadervalue2=333644&blobheadervalue1=filename%',\n",
       " '3DFASB_Staff_ESG_Educational_Paper_FINAL.pdf&blob col=urldata&blobtable=MungoBlobs',\n",
       " '',\n",
       " '3 \\t',\n",
       " 'https://www.iaasb.org/news-events/2020-10/iaasb-issues-staff-audit-practice-alert-climate-related-risks',\n",
       " '',\n",
       " '4 \\t',\n",
       " 'https://www.unpri.org/download?ac=11558',\n",
       " '',\n",
       " '5 \\t',\n",
       " 'See e.g. https://www.gfanzero.com/press/amount-of-finance-committed-to-achieving-1-5c-now-at-scale-needed-to-deliver- the-transition/',\n",
       " '',\n",
       " '6 \\t',\n",
       " 'https://www.iea.org/reports/world-energy-outlook-2021 p. 101',\n",
       " '',\n",
       " '7 \\t',\n",
       " 'https://carbontracker.org/reports/flying-blind-the-glaring-absence-of-climate-risks-in-financial-reporting/',\n",
       " '',\n",
       " '8 \\t',\n",
       " 'executive-summary-climate-resiliency-report.pdf, p. 3',\n",
       " '',\n",
       " '9 \\t',\n",
       " 'https://carbontracker.org/reports/flying-blind-the-glaring-absence-of-climate-risks-in-financial-reporting/',\n",
       " '',\n",
       " '10 \\t',\n",
       " 'https://www.sec.gov/Archives/edgar/data/34088/000121465921004380/cg421210px14a6g.htm, p. 6']"
      ]
     },
     "execution_count": 2,
     "metadata": {},
     "output_type": "execute_result"
    }
   ],
   "source": [
    "Chevron_news = \"\"\"\n",
    "1 \t\n",
    "https://www.ifrs.org/news-and-events/news/2019/11/nick-anderson-ifrs-standards-and-climate-related-disclosures/\n",
    "\n",
    "2 \t\n",
    "https://www.fasb.org/cs/BlobServer?blobkey=id&blobnocache=true&blobwhere=1175836268408&blobheader=application%2Fpdf& blobheadername2=Content-Length&blobheadername1=Content-Disposition&blobheadervalue2=333644&blobheadervalue1=filename%\n",
    "3DFASB_Staff_ESG_Educational_Paper_FINAL.pdf&blob col=urldata&blobtable=MungoBlobs\n",
    "\n",
    "3 \t\n",
    "https://www.iaasb.org/news-events/2020-10/iaasb-issues-staff-audit-practice-alert-climate-related-risks\n",
    "\n",
    "4 \t\n",
    "https://www.unpri.org/download?ac=11558\n",
    "\n",
    "5 \t\n",
    "See e.g. https://www.gfanzero.com/press/amount-of-finance-committed-to-achieving-1-5c-now-at-scale-needed-to-deliver- the-transition/\n",
    "\n",
    "6 \t\n",
    "https://www.iea.org/reports/world-energy-outlook-2021 p. 101\n",
    "\n",
    "7 \t\n",
    "https://carbontracker.org/reports/flying-blind-the-glaring-absence-of-climate-risks-in-financial-reporting/\n",
    "\n",
    "8 \t\n",
    "executive-summary-climate-resiliency-report.pdf, p. 3\n",
    "\n",
    "9 \t\n",
    "https://carbontracker.org/reports/flying-blind-the-glaring-absence-of-climate-risks-in-financial-reporting/\n",
    "\n",
    "10 \t\n",
    "https://www.sec.gov/Archives/edgar/data/34088/000121465921004380/cg421210px14a6g.htm, p. 6\n",
    "\n",
    "\n",
    "1 \t\n",
    "https://www.unep.org/news-and-stories/press-release/methane-observatory-launched-boost-action-powerful-climate-warming\n",
    "\n",
    "2 \t\n",
    "https://www.epa.gov/ghgemissions/overview-greenhouse-gases\n",
    "\n",
    "3 \t\n",
    "https://www.edf.org/climate/methane-studies\n",
    "\n",
    "4 \t\n",
    "https://www.science.org/doi/full/10.1126/science.aar7204, https://www.seas.harvard.edu/news/2021/03/oil-and-natural-gas-production-emit-more-methane-previously-thought\n",
    "\n",
    "5 \t\n",
    "https://business.edf.org/files/Investors-Guide-to-the-OGMP_09.17.21_FINAL.pdf\n",
    "\n",
    "6 \t\n",
    "https://www.ceres.org/news-center/press-releases/major-investors-demand-ambitious-methane-regulations-us\n",
    "\n",
    "7 \t\n",
    "https://ec.europa.eu/commission/presscorner/detail/en/IP_21_4785\n",
    "\n",
    "8 \t\n",
    "http://ogmpartnership.com/partners\n",
    "\n",
    "9 \t\n",
    "https://www.ceres.org/sites/default/files/reports/2021-06/OilandGas_BenchmarkingReport_FINAL.pdf\n",
    "\n",
    "https://www.spglobal.com/marketintelligence/en/news-insights/latest-news-headlines/racial-inequity-a-systemic-risk-8211-state-street- global-advisors-ceo-62047105\n",
    "\n",
    "2 \t\n",
    "https://www.forbes.com/sites/forbeshumanresourcescouncil/2021/05/19/15-key-benefits-of-dei-to-communicate-with-team- members/?sh=78cbb835195c\n",
    "\n",
    "3 \t\n",
    "https://b8f65cb373b1b7b15feb-c70d8ead6ced550b4d987d7c03fcdd1d.ssl.cf3.rackcdn.com/cms/reports/documents/000/002/327/original/Carbon-Majors-Report- 2017.pdf?1499691240\n",
    "\n",
    "4 \t\n",
    "https://e360.yale.edu/features/unequal-impact-the-deep-links-between-inequality-and-climate-change; https://blog.ucsusa.org/kathy- mulvey/six-ways-chevron-imperils-climate-human-rights-and-racial-justice/\n",
    "\n",
    "5 \t\n",
    "https://www.scientificamerican.com/article/pollution-poverty-people-color-living-industry/\n",
    "\n",
    "6 \t\n",
    "https://www.theguardian.com/environment/2019/oct/09/richmond-chevron-california-city-polluter-fossil-fuel; https://ej4all.org/life-at- the-fenceline\n",
    "\n",
    "7 \t\n",
    "https://www.eastbaytimes.com/2014/10/10/chevron-unleashes-campaign-spending-to-influence-richmond-election/\n",
    "\n",
    "8 \t\n",
    "https://stopthemoneypipeline.com/wall-street-and-fossil-fuel-companies-are-funding-police-violence/\n",
    "\n",
    "9 \t\n",
    "https://www.mercurynews.com/2021/02/15/richmond-pays-135k-to-settle-brutality-lawsuit-against-controversial-cop-officer- involved-is-on-admin-leave-for-an-unrelated-investigation/; https://eastbayexpress.com/more-questions-than-answers-in-richmond-police- shooting-1/\n",
    "\n",
    "10 \t\n",
    "https://www.theguardian.com/us-news/2020/jul/27/fossil-fuels-oil-gas-industry-police-foundations\n",
    "\n",
    "11 \t\n",
    "https://www.globalwitness.org/en/campaigns/oil-gas-and-mining/chevron-stop-funding-racism/\n",
    "\n",
    "12 \t\n",
    "https://chevronsglobaldestruction.com/chevrons_global_destruction_report.pdf\n",
    "\n",
    "13 \t\n",
    "https://www.business-humanrights.org/en/latest-news/the-case-of-chevron-in-the-ecuadorian-amazon-the-ruling-of-the- supreme- court-of-canada-closes-the-doors-to-end-impunity/\n",
    "\n",
    "14 \t\n",
    "https://ejatlas.org/print/indonesia-against-chevron\n",
    "\n",
    "15 \t\n",
    "https://sustainable-economy.org/wp-content/uploads/2018/02/Chevron-HR-in-Niger-Delta-Chad-Cam.pdf\n",
    "\n",
    "16 \t\n",
    "https://www.npr.org/templates/story/story.php?storyId=121853115\n",
    "\n",
    "17 \t\n",
    "https://insideclimatenews.org/news/20062020/chevron-black-lives-matter-twitter/\n",
    "\n",
    "18 \t\n",
    "https://chevronsglobaldestruction.com/chevrons_global_destruction_report.pdf\n",
    "\n",
    " \t\n",
    "https://docs.house.gov/meetings/GO/GO00/20211028/114185/HHRG-117-GO00-20211028-SD018.pdf\n",
    "\"\"\"\n",
    "\n",
    "Chevron_news.split('\\n')"
   ]
  },
  {
   "cell_type": "code",
   "execution_count": null,
   "metadata": {},
   "outputs": [],
   "source": []
  }
 ],
 "metadata": {
  "kernelspec": {
   "display_name": "myenv",
   "language": "python",
   "name": "python3"
  },
  "language_info": {
   "codemirror_mode": {
    "name": "ipython",
    "version": 3
   },
   "file_extension": ".py",
   "mimetype": "text/x-python",
   "name": "python",
   "nbconvert_exporter": "python",
   "pygments_lexer": "ipython3",
   "version": "3.7.13"
  },
  "orig_nbformat": 4,
  "vscode": {
   "interpreter": {
    "hash": "09ac0f642c4809c63ace70dc888cbd5b35159287af3895fb76989324c78b2f31"
   }
  }
 },
 "nbformat": 4,
 "nbformat_minor": 2
}
