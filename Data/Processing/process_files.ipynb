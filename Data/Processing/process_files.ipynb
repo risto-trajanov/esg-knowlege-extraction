{
 "cells": [
  {
   "cell_type": "code",
   "execution_count": 1,
   "metadata": {},
   "outputs": [],
   "source": [
    "import extract_data as ex"
   ]
  },
  {
   "attachments": {},
   "cell_type": "markdown",
   "metadata": {},
   "source": [
    "# Label Studio"
   ]
  },
  {
   "cell_type": "code",
   "execution_count": 2,
   "metadata": {},
   "outputs": [
    {
     "name": "stdout",
     "output_type": "stream",
     "text": [
      "223\n",
      "{'from_id': 'gm2nXX5EIp', 'to_id': '_vpFR1OHM7', 'type': 'relation', 'direction': 'right', 'labels': []}\n",
      "list index out of range\n",
      "230\n",
      "{'from_id': 'fSjdyI5ORI', 'to_id': 'gzXgGzbIg7', 'type': 'relation', 'direction': 'right', 'labels': []}\n",
      "list index out of range\n",
      "231\n",
      "1\n",
      "14\n",
      "15\n"
     ]
    }
   ],
   "source": [
    "documents_label = []\n",
    "documents_label = ex.get_relations_from_label_studio_data('./data/Label Studio/chev_data.json')\n",
    "documents_label = ex.get_relations_from_label_studio_data('./data/Label Studio/chev_data2.json')"
   ]
  },
  {
   "attachments": {},
   "cell_type": "markdown",
   "metadata": {},
   "source": [
    "# Chat GPT"
   ]
  },
  {
   "cell_type": "code",
   "execution_count": 6,
   "metadata": {},
   "outputs": [],
   "source": [
    "documents_gpt = []\n",
    "ex.transform_txt_to_json('./data/GPT/', './results/all_data.jsonl')"
   ]
  },
  {
   "cell_type": "code",
   "execution_count": 2,
   "metadata": {},
   "outputs": [],
   "source": [
    "docs_gpt_fix = ex.fix_boundaries('./results/all_data.jsonl')"
   ]
  },
  {
   "attachments": {},
   "cell_type": "markdown",
   "metadata": {},
   "source": [
    "# Save files"
   ]
  },
  {
   "cell_type": "code",
   "execution_count": 3,
   "metadata": {},
   "outputs": [],
   "source": [
    "ex.save_documents_to_jsonl('./results/gpt_fixed.jsonl', docs_gpt_fix)"
   ]
  },
  {
   "cell_type": "code",
   "execution_count": 9,
   "metadata": {},
   "outputs": [],
   "source": [
    "ex.save_documents_to_jsonl('./results/label_studio.jsonl', documents_label)"
   ]
  },
  {
   "attachments": {},
   "cell_type": "markdown",
   "metadata": {},
   "source": [
    "# Relations Count change"
   ]
  },
  {
   "cell_type": "code",
   "execution_count": 3,
   "metadata": {},
   "outputs": [],
   "source": [
    "relations = ex.get_relations('./results/all_data.jsonl')"
   ]
  },
  {
   "cell_type": "code",
   "execution_count": 4,
   "metadata": {},
   "outputs": [],
   "source": [
    "ex.update_relations_count('../../Code/Models/REBEL/rebel-main/rebel-main/data/relations_count.tsv', relations)"
   ]
  },
  {
   "cell_type": "code",
   "execution_count": null,
   "metadata": {},
   "outputs": [],
   "source": []
  }
 ],
 "metadata": {
  "kernelspec": {
   "display_name": "myenv",
   "language": "python",
   "name": "python3"
  },
  "language_info": {
   "codemirror_mode": {
    "name": "ipython",
    "version": 3
   },
   "file_extension": ".py",
   "mimetype": "text/x-python",
   "name": "python",
   "nbconvert_exporter": "python",
   "pygments_lexer": "ipython3",
   "version": "3.7.13"
  },
  "orig_nbformat": 4
 },
 "nbformat": 4,
 "nbformat_minor": 2
}
