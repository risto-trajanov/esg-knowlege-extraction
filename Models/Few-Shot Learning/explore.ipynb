{
 "cells": [
  {
   "attachments": {},
   "cell_type": "markdown",
   "metadata": {},
   "source": [
    "# Blog:  https://maelfabien.github.io/machinelearning/NLP_5/#implementation\n"
   ]
  },
  {
   "cell_type": "code",
   "execution_count": 15,
   "metadata": {},
   "outputs": [],
   "source": [
    "import pandas as pd\n",
    "import numpy as np\n",
    "from random import seed\n",
    "from random import sample\n",
    "import re\n",
    "\n",
    "seed(42)\n",
    "np.random.seed(42)\n",
    "\n",
    "from sklearn.model_selection import train_test_split\n",
    "import matplotlib.pyplot as plt\n",
    "\n",
    "import gensim.downloader as api\n",
    "from gensim.models.keyedvectors import Word2VecKeyedVectors\n",
    "\n",
    "from sklearn.decomposition import PCA\n",
    "from sklearn.metrics import accuracy_score\n",
    "from scipy import spatial\n",
    "\n",
    "from nltk.corpus import stopwords"
   ]
  },
  {
   "cell_type": "code",
   "execution_count": 6,
   "metadata": {},
   "outputs": [],
   "source": [
    "model2 = api.load('word2vec-google-news-300')"
   ]
  },
  {
   "cell_type": "code",
   "execution_count": 7,
   "metadata": {},
   "outputs": [],
   "source": [
    "df = pd.read_json('./project-1-at-2023-03-27-00-39-6ca34300 (1).json')"
   ]
  },
  {
   "cell_type": "code",
   "execution_count": 8,
   "metadata": {},
   "outputs": [],
   "source": [
    "texts = []\n",
    "labels = []\n",
    "for label_list in df['label-General'].values.tolist():\n",
    "    for label in label_list:\n",
    "        texts.append(label['text'])\n",
    "        labels.append(label['labels'][0])"
   ]
  },
  {
   "cell_type": "code",
   "execution_count": 9,
   "metadata": {},
   "outputs": [
    {
     "data": {
      "text/plain": [
       "True"
      ]
     },
     "execution_count": 9,
     "metadata": {},
     "output_type": "execute_result"
    }
   ],
   "source": [
    "len(labels) == len(texts)"
   ]
  },
  {
   "cell_type": "code",
   "execution_count": 10,
   "metadata": {},
   "outputs": [],
   "source": [
    "df_esg = pd.DataFrame({'text': texts, 'label': labels})"
   ]
  },
  {
   "cell_type": "code",
   "execution_count": 11,
   "metadata": {},
   "outputs": [
    {
     "data": {
      "text/html": [
       "<div>\n",
       "<style scoped>\n",
       "    .dataframe tbody tr th:only-of-type {\n",
       "        vertical-align: middle;\n",
       "    }\n",
       "\n",
       "    .dataframe tbody tr th {\n",
       "        vertical-align: top;\n",
       "    }\n",
       "\n",
       "    .dataframe thead th {\n",
       "        text-align: right;\n",
       "    }\n",
       "</style>\n",
       "<table border=\"1\" class=\"dataframe\">\n",
       "  <thead>\n",
       "    <tr style=\"text-align: right;\">\n",
       "      <th></th>\n",
       "      <th>text</th>\n",
       "      <th>label</th>\n",
       "    </tr>\n",
       "  </thead>\n",
       "  <tbody>\n",
       "    <tr>\n",
       "      <th>0</th>\n",
       "      <td>We, the shareholders, must protect our assets ...</td>\n",
       "      <td>Environmental Positive</td>\n",
       "    </tr>\n",
       "    <tr>\n",
       "      <th>1</th>\n",
       "      <td>we therefore support companies to substantiall...</td>\n",
       "      <td>Environmental Positive</td>\n",
       "    </tr>\n",
       "    <tr>\n",
       "      <th>2</th>\n",
       "      <td>We, the shareholders, must protect our assets ...</td>\n",
       "      <td>Governence Positive</td>\n",
       "    </tr>\n",
       "    <tr>\n",
       "      <th>3</th>\n",
       "      <td>Shareholders request the Company to substantia...</td>\n",
       "      <td>Environmental Positive</td>\n",
       "    </tr>\n",
       "    <tr>\n",
       "      <th>4</th>\n",
       "      <td>Shareholders request the Company to substanti...</td>\n",
       "      <td>Governence Positive</td>\n",
       "    </tr>\n",
       "    <tr>\n",
       "      <th>...</th>\n",
       "      <td>...</td>\n",
       "      <td>...</td>\n",
       "    </tr>\n",
       "    <tr>\n",
       "      <th>421</th>\n",
       "      <td>With this review Shell have set the benchmark ...</td>\n",
       "      <td>Environmental Positive</td>\n",
       "    </tr>\n",
       "    <tr>\n",
       "      <th>422</th>\n",
       "      <td>With this review Shell have set the benchmark ...</td>\n",
       "      <td>Governence Positive</td>\n",
       "    </tr>\n",
       "    <tr>\n",
       "      <th>423</th>\n",
       "      <td>Shell said it will continue to engage with the...</td>\n",
       "      <td>Governence Positive</td>\n",
       "    </tr>\n",
       "    <tr>\n",
       "      <th>424</th>\n",
       "      <td>Shell last month urged President Donald Trump’...</td>\n",
       "      <td>Environmental Positive</td>\n",
       "    </tr>\n",
       "    <tr>\n",
       "      <th>425</th>\n",
       "      <td>Shell last month urged President Donald Trump’...</td>\n",
       "      <td>Governence Positive</td>\n",
       "    </tr>\n",
       "  </tbody>\n",
       "</table>\n",
       "<p>426 rows × 2 columns</p>\n",
       "</div>"
      ],
      "text/plain": [
       "                                                  text                   label\n",
       "0    We, the shareholders, must protect our assets ...  Environmental Positive\n",
       "1    we therefore support companies to substantiall...  Environmental Positive\n",
       "2    We, the shareholders, must protect our assets ...     Governence Positive\n",
       "3    Shareholders request the Company to substantia...  Environmental Positive\n",
       "4     Shareholders request the Company to substanti...     Governence Positive\n",
       "..                                                 ...                     ...\n",
       "421  With this review Shell have set the benchmark ...  Environmental Positive\n",
       "422  With this review Shell have set the benchmark ...     Governence Positive\n",
       "423  Shell said it will continue to engage with the...     Governence Positive\n",
       "424  Shell last month urged President Donald Trump’...  Environmental Positive\n",
       "425  Shell last month urged President Donald Trump’...     Governence Positive\n",
       "\n",
       "[426 rows x 2 columns]"
      ]
     },
     "execution_count": 11,
     "metadata": {},
     "output_type": "execute_result"
    }
   ],
   "source": [
    "df_esg"
   ]
  },
  {
   "cell_type": "code",
   "execution_count": 12,
   "metadata": {},
   "outputs": [
    {
     "name": "stderr",
     "output_type": "stream",
     "text": [
      "[nltk_data] Downloading package stopwords to C:\\Users\\Risto\n",
      "[nltk_data]     Trajanov\\AppData\\Roaming\\nltk_data...\n",
      "[nltk_data]   Package stopwords is already up-to-date!\n"
     ]
    }
   ],
   "source": [
    "import string\n",
    "import nltk\n",
    "nltk.download('stopwords')\n",
    "from nltk.corpus import stopwords\n",
    "\n",
    "def clean_sentence(sentence):\n",
    "    \"\"\"\n",
    "    Cleans a sentence by removing punctuation, making all characters lowercase,\n",
    "    and removing stop words.\n",
    "    \n",
    "    Args:\n",
    "    - sentence (str): The sentence to clean.\n",
    "    \n",
    "    Returns:\n",
    "    - cleaned_sentence (str): The cleaned sentence.\n",
    "    \"\"\"\n",
    "    # Remove punctuation\n",
    "    cleaned_sentence = sentence.translate(str.maketrans('', '', string.punctuation))\n",
    "    \n",
    "    # Make lowercase\n",
    "    cleaned_sentence = cleaned_sentence.lower()\n",
    "    \n",
    "    # Remove stop words\n",
    "    stop_words = set(stopwords.words('english'))\n",
    "    cleaned_sentence = \" \".join(word for word in cleaned_sentence.split() if word not in stop_words)\n",
    "    \n",
    "    return cleaned_sentence\n"
   ]
  },
  {
   "cell_type": "code",
   "execution_count": 13,
   "metadata": {},
   "outputs": [],
   "source": [
    "df_esg['text'] = df_esg['text'].apply(lambda x: clean_sentence(x))"
   ]
  },
  {
   "cell_type": "code",
   "execution_count": 51,
   "metadata": {},
   "outputs": [
    {
     "data": {
      "text/plain": [
       "5"
      ]
     },
     "execution_count": 51,
     "metadata": {},
     "output_type": "execute_result"
    }
   ],
   "source": [
    "len(df_esg['label'].value_counts()[df_esg['label'].value_counts()>30])"
   ]
  },
  {
   "cell_type": "code",
   "execution_count": 47,
   "metadata": {},
   "outputs": [],
   "source": [
    "labels_valid = df_esg['label'].value_counts()[df_esg['label'].value_counts()>30].index.tolist()"
   ]
  },
  {
   "cell_type": "code",
   "execution_count": 54,
   "metadata": {},
   "outputs": [
    {
     "data": {
      "text/plain": [
       "['Environmental Positive',\n",
       " 'Governence Positive',\n",
       " 'Governence Negative',\n",
       " 'Environmental Negative',\n",
       " 'Governence Neutral']"
      ]
     },
     "execution_count": 54,
     "metadata": {},
     "output_type": "execute_result"
    }
   ],
   "source": [
    "labels_valid"
   ]
  },
  {
   "cell_type": "code",
   "execution_count": 55,
   "metadata": {},
   "outputs": [],
   "source": [
    "# labels_set = set(df_esg['label'])\n",
    "labels_set = set(labels_valid)\n",
    "label_map = {label:i for label, i in zip(list(labels_set), range(len(labels_set)))}"
   ]
  },
  {
   "cell_type": "code",
   "execution_count": 56,
   "metadata": {},
   "outputs": [
    {
     "data": {
      "text/plain": [
       "{'Environmental Positive': 0,\n",
       " 'Governence Negative': 1,\n",
       " 'Environmental Negative': 2,\n",
       " 'Governence Positive': 3,\n",
       " 'Governence Neutral': 4}"
      ]
     },
     "execution_count": 56,
     "metadata": {},
     "output_type": "execute_result"
    }
   ],
   "source": [
    "label_map"
   ]
  },
  {
   "cell_type": "code",
   "execution_count": 58,
   "metadata": {},
   "outputs": [],
   "source": [
    "df_esg_valid = df_esg[df_esg['label'].isin(labels_valid)]"
   ]
  },
  {
   "cell_type": "code",
   "execution_count": 59,
   "metadata": {},
   "outputs": [
    {
     "name": "stderr",
     "output_type": "stream",
     "text": [
      "c:\\Users\\Risto Trajanov\\anaconda3\\envs\\myenv\\lib\\site-packages\\ipykernel_launcher.py:1: SettingWithCopyWarning: \n",
      "A value is trying to be set on a copy of a slice from a DataFrame.\n",
      "Try using .loc[row_indexer,col_indexer] = value instead\n",
      "\n",
      "See the caveats in the documentation: https://pandas.pydata.org/pandas-docs/stable/user_guide/indexing.html#returning-a-view-versus-a-copy\n",
      "  \"\"\"Entry point for launching an IPython kernel.\n"
     ]
    }
   ],
   "source": [
    "df_esg_valid['label_id'] = [label_map[label] for label in df_esg_valid['label']]"
   ]
  },
  {
   "cell_type": "code",
   "execution_count": 60,
   "metadata": {},
   "outputs": [],
   "source": [
    "# Generate samples that contains K samples of each class\n",
    "\n",
    "def gen_sample(sample_size, num_classes, df):\n",
    "\n",
    "    df_1 = df[(df[\"Label\"]<num_classes + 1)].reset_index().drop([\"index\"], axis=1).reset_index().drop([\"index\"], axis=1)\n",
    "    train = df_1[df_1[\"Label\"] == np.unique(df_1['Label'])[0]].sample(sample_size)\n",
    "\n",
    "    train_index = train.index.tolist()\n",
    "\n",
    "    for i in range(1,num_classes):\n",
    "        train_2 = df_1[df_1[\"Label\"] == np.unique(df_1['Label'])[i]].sample(sample_size)\n",
    "        train = pd.concat([train, train_2], axis=0)\n",
    "        train_index.extend(train_2.index.tolist())\n",
    "\n",
    "    test = df_1[~df_1.index.isin(train_index)]\n",
    "\n",
    "    return train, test"
   ]
  },
  {
   "cell_type": "code",
   "execution_count": 61,
   "metadata": {},
   "outputs": [],
   "source": [
    "df = pd.DataFrame({'Text': df_esg_valid['text'], \n",
    "                   'Label': df_esg_valid['label_id']})"
   ]
  },
  {
   "cell_type": "code",
   "execution_count": 62,
   "metadata": {},
   "outputs": [],
   "source": [
    "num_classes = 5\n",
    "sample_size = 30"
   ]
  },
  {
   "cell_type": "code",
   "execution_count": 63,
   "metadata": {},
   "outputs": [],
   "source": [
    "train, test = gen_sample(sample_size, num_classes, df)\n",
    "\n",
    "X_train = train['Text']\n",
    "y_train = train['Label'].values\n",
    "X_test = test['Text']\n",
    "y_test = test['Label'].values"
   ]
  },
  {
   "cell_type": "code",
   "execution_count": 66,
   "metadata": {},
   "outputs": [],
   "source": [
    "# Text processing (split, find token id, get embedidng)\n",
    "def transform_sentence(text, model):\n",
    "    \"\"\"\n",
    "    Mean embedding vector\n",
    "    \"\"\"\n",
    "    def preprocess_text(raw_text, model=model):\n",
    "\n",
    "        \"\"\" \n",
    "        Excluding unknown words and get corresponding token\n",
    "        \"\"\"\n",
    "\n",
    "        raw_text = raw_text.split()\n",
    "\n",
    "        return list(filter(lambda x: x in model.index_to_key, raw_text))\n",
    "\n",
    "    tokens = preprocess_text(text)\n",
    "\n",
    "    if not tokens:\n",
    "        return np.zeros(model.vector_size)\n",
    "\n",
    "    text_vector = np.mean(model[tokens], axis=0)\n",
    "\n",
    "    return np.array(text_vector)"
   ]
  },
  {
   "cell_type": "code",
   "execution_count": 67,
   "metadata": {},
   "outputs": [],
   "source": [
    "X_train_mean = X_train.apply(lambda x : transform_sentence(x, model2))\n",
    "X_test_mean = X_test.apply(lambda x : transform_sentence(x, model2))\n",
    "\n",
    "X_train_mean = pd.DataFrame(X_train_mean)['Text'].apply(pd.Series)\n",
    "X_test_mean = pd.DataFrame(X_test_mean)['Text'].apply(pd.Series)"
   ]
  },
  {
   "cell_type": "code",
   "execution_count": 68,
   "metadata": {},
   "outputs": [
    {
     "data": {
      "text/html": [
       "<div>\n",
       "<style scoped>\n",
       "    .dataframe tbody tr th:only-of-type {\n",
       "        vertical-align: middle;\n",
       "    }\n",
       "\n",
       "    .dataframe tbody tr th {\n",
       "        vertical-align: top;\n",
       "    }\n",
       "\n",
       "    .dataframe thead th {\n",
       "        text-align: right;\n",
       "    }\n",
       "</style>\n",
       "<table border=\"1\" class=\"dataframe\">\n",
       "  <thead>\n",
       "    <tr style=\"text-align: right;\">\n",
       "      <th></th>\n",
       "      <th>0</th>\n",
       "      <th>1</th>\n",
       "      <th>2</th>\n",
       "      <th>3</th>\n",
       "      <th>4</th>\n",
       "      <th>5</th>\n",
       "      <th>6</th>\n",
       "      <th>7</th>\n",
       "      <th>8</th>\n",
       "      <th>9</th>\n",
       "      <th>...</th>\n",
       "      <th>290</th>\n",
       "      <th>291</th>\n",
       "      <th>292</th>\n",
       "      <th>293</th>\n",
       "      <th>294</th>\n",
       "      <th>295</th>\n",
       "      <th>296</th>\n",
       "      <th>297</th>\n",
       "      <th>298</th>\n",
       "      <th>299</th>\n",
       "    </tr>\n",
       "  </thead>\n",
       "  <tbody>\n",
       "    <tr>\n",
       "      <th>300</th>\n",
       "      <td>0.015422</td>\n",
       "      <td>0.105496</td>\n",
       "      <td>0.109348</td>\n",
       "      <td>0.005195</td>\n",
       "      <td>-0.158474</td>\n",
       "      <td>-0.043972</td>\n",
       "      <td>0.008358</td>\n",
       "      <td>-0.054552</td>\n",
       "      <td>0.050035</td>\n",
       "      <td>0.050469</td>\n",
       "      <td>...</td>\n",
       "      <td>-0.186822</td>\n",
       "      <td>0.004313</td>\n",
       "      <td>0.008952</td>\n",
       "      <td>0.011827</td>\n",
       "      <td>-0.057258</td>\n",
       "      <td>0.008735</td>\n",
       "      <td>0.089286</td>\n",
       "      <td>0.080285</td>\n",
       "      <td>0.129110</td>\n",
       "      <td>0.062500</td>\n",
       "    </tr>\n",
       "    <tr>\n",
       "      <th>262</th>\n",
       "      <td>-0.137451</td>\n",
       "      <td>0.061462</td>\n",
       "      <td>0.118164</td>\n",
       "      <td>0.113403</td>\n",
       "      <td>-0.114380</td>\n",
       "      <td>-0.167725</td>\n",
       "      <td>0.032898</td>\n",
       "      <td>-0.162872</td>\n",
       "      <td>0.218506</td>\n",
       "      <td>0.278076</td>\n",
       "      <td>...</td>\n",
       "      <td>-0.263428</td>\n",
       "      <td>-0.050293</td>\n",
       "      <td>0.096313</td>\n",
       "      <td>-0.059265</td>\n",
       "      <td>-0.130630</td>\n",
       "      <td>0.067719</td>\n",
       "      <td>-0.000336</td>\n",
       "      <td>0.110565</td>\n",
       "      <td>0.029724</td>\n",
       "      <td>0.066589</td>\n",
       "    </tr>\n",
       "    <tr>\n",
       "      <th>269</th>\n",
       "      <td>0.045715</td>\n",
       "      <td>-0.005253</td>\n",
       "      <td>0.139805</td>\n",
       "      <td>-0.068542</td>\n",
       "      <td>-0.032261</td>\n",
       "      <td>0.028774</td>\n",
       "      <td>0.094099</td>\n",
       "      <td>-0.275670</td>\n",
       "      <td>0.163452</td>\n",
       "      <td>0.059344</td>\n",
       "      <td>...</td>\n",
       "      <td>-0.166364</td>\n",
       "      <td>-0.040161</td>\n",
       "      <td>-0.113761</td>\n",
       "      <td>0.155901</td>\n",
       "      <td>0.049482</td>\n",
       "      <td>-0.057717</td>\n",
       "      <td>-0.075997</td>\n",
       "      <td>-0.056798</td>\n",
       "      <td>0.152919</td>\n",
       "      <td>0.056436</td>\n",
       "    </tr>\n",
       "    <tr>\n",
       "      <th>79</th>\n",
       "      <td>-0.034442</td>\n",
       "      <td>-0.031299</td>\n",
       "      <td>0.023230</td>\n",
       "      <td>0.031836</td>\n",
       "      <td>-0.114697</td>\n",
       "      <td>-0.071558</td>\n",
       "      <td>0.027069</td>\n",
       "      <td>-0.104883</td>\n",
       "      <td>0.129980</td>\n",
       "      <td>0.024365</td>\n",
       "      <td>...</td>\n",
       "      <td>-0.103177</td>\n",
       "      <td>0.082863</td>\n",
       "      <td>0.017908</td>\n",
       "      <td>-0.045935</td>\n",
       "      <td>-0.036285</td>\n",
       "      <td>0.048376</td>\n",
       "      <td>0.041296</td>\n",
       "      <td>0.065479</td>\n",
       "      <td>0.165227</td>\n",
       "      <td>0.041309</td>\n",
       "    </tr>\n",
       "    <tr>\n",
       "      <th>316</th>\n",
       "      <td>0.175293</td>\n",
       "      <td>0.045135</td>\n",
       "      <td>-0.056519</td>\n",
       "      <td>0.084717</td>\n",
       "      <td>-0.047485</td>\n",
       "      <td>-0.171021</td>\n",
       "      <td>0.135742</td>\n",
       "      <td>-0.004089</td>\n",
       "      <td>0.125244</td>\n",
       "      <td>0.250610</td>\n",
       "      <td>...</td>\n",
       "      <td>-0.252914</td>\n",
       "      <td>0.075562</td>\n",
       "      <td>0.201416</td>\n",
       "      <td>-0.027359</td>\n",
       "      <td>-0.049438</td>\n",
       "      <td>0.145996</td>\n",
       "      <td>0.222412</td>\n",
       "      <td>0.064941</td>\n",
       "      <td>0.157074</td>\n",
       "      <td>-0.067139</td>\n",
       "    </tr>\n",
       "    <tr>\n",
       "      <th>...</th>\n",
       "      <td>...</td>\n",
       "      <td>...</td>\n",
       "      <td>...</td>\n",
       "      <td>...</td>\n",
       "      <td>...</td>\n",
       "      <td>...</td>\n",
       "      <td>...</td>\n",
       "      <td>...</td>\n",
       "      <td>...</td>\n",
       "      <td>...</td>\n",
       "      <td>...</td>\n",
       "      <td>...</td>\n",
       "      <td>...</td>\n",
       "      <td>...</td>\n",
       "      <td>...</td>\n",
       "      <td>...</td>\n",
       "      <td>...</td>\n",
       "      <td>...</td>\n",
       "      <td>...</td>\n",
       "      <td>...</td>\n",
       "      <td>...</td>\n",
       "    </tr>\n",
       "    <tr>\n",
       "      <th>177</th>\n",
       "      <td>-0.098328</td>\n",
       "      <td>0.045135</td>\n",
       "      <td>0.046527</td>\n",
       "      <td>0.090129</td>\n",
       "      <td>0.007111</td>\n",
       "      <td>-0.011222</td>\n",
       "      <td>0.011662</td>\n",
       "      <td>-0.080322</td>\n",
       "      <td>0.216069</td>\n",
       "      <td>0.006897</td>\n",
       "      <td>...</td>\n",
       "      <td>-0.051439</td>\n",
       "      <td>0.028103</td>\n",
       "      <td>-0.033821</td>\n",
       "      <td>0.042023</td>\n",
       "      <td>-0.000397</td>\n",
       "      <td>0.060448</td>\n",
       "      <td>0.051449</td>\n",
       "      <td>-0.109639</td>\n",
       "      <td>-0.047872</td>\n",
       "      <td>0.007622</td>\n",
       "    </tr>\n",
       "    <tr>\n",
       "      <th>313</th>\n",
       "      <td>-0.051838</td>\n",
       "      <td>0.038457</td>\n",
       "      <td>0.051732</td>\n",
       "      <td>0.021746</td>\n",
       "      <td>-0.105451</td>\n",
       "      <td>0.049683</td>\n",
       "      <td>0.038154</td>\n",
       "      <td>-0.072239</td>\n",
       "      <td>0.178170</td>\n",
       "      <td>-0.007417</td>\n",
       "      <td>...</td>\n",
       "      <td>-0.087742</td>\n",
       "      <td>0.151725</td>\n",
       "      <td>-0.083143</td>\n",
       "      <td>-0.066861</td>\n",
       "      <td>-0.017997</td>\n",
       "      <td>0.134478</td>\n",
       "      <td>0.051688</td>\n",
       "      <td>-0.042332</td>\n",
       "      <td>0.034363</td>\n",
       "      <td>-0.052098</td>\n",
       "    </tr>\n",
       "    <tr>\n",
       "      <th>180</th>\n",
       "      <td>-0.080024</td>\n",
       "      <td>0.085042</td>\n",
       "      <td>0.090413</td>\n",
       "      <td>0.053806</td>\n",
       "      <td>0.083944</td>\n",
       "      <td>-0.059752</td>\n",
       "      <td>0.005602</td>\n",
       "      <td>-0.058160</td>\n",
       "      <td>0.104947</td>\n",
       "      <td>0.030457</td>\n",
       "      <td>...</td>\n",
       "      <td>0.014466</td>\n",
       "      <td>0.053467</td>\n",
       "      <td>0.066254</td>\n",
       "      <td>-0.023261</td>\n",
       "      <td>0.023153</td>\n",
       "      <td>0.137099</td>\n",
       "      <td>0.083252</td>\n",
       "      <td>-0.106581</td>\n",
       "      <td>0.035753</td>\n",
       "      <td>-0.009033</td>\n",
       "    </tr>\n",
       "    <tr>\n",
       "      <th>309</th>\n",
       "      <td>-0.018338</td>\n",
       "      <td>0.101712</td>\n",
       "      <td>0.024170</td>\n",
       "      <td>0.148532</td>\n",
       "      <td>-0.107422</td>\n",
       "      <td>-0.138312</td>\n",
       "      <td>0.026233</td>\n",
       "      <td>-0.023722</td>\n",
       "      <td>0.119602</td>\n",
       "      <td>0.036804</td>\n",
       "      <td>...</td>\n",
       "      <td>-0.128866</td>\n",
       "      <td>0.023234</td>\n",
       "      <td>-0.002658</td>\n",
       "      <td>0.040145</td>\n",
       "      <td>-0.005100</td>\n",
       "      <td>-0.003499</td>\n",
       "      <td>-0.011000</td>\n",
       "      <td>0.047085</td>\n",
       "      <td>0.040826</td>\n",
       "      <td>0.008185</td>\n",
       "    </tr>\n",
       "    <tr>\n",
       "      <th>176</th>\n",
       "      <td>-0.182227</td>\n",
       "      <td>0.204492</td>\n",
       "      <td>0.101306</td>\n",
       "      <td>-0.051172</td>\n",
       "      <td>-0.051929</td>\n",
       "      <td>-0.114063</td>\n",
       "      <td>-0.009035</td>\n",
       "      <td>-0.051416</td>\n",
       "      <td>-0.036243</td>\n",
       "      <td>-0.070132</td>\n",
       "      <td>...</td>\n",
       "      <td>-0.193262</td>\n",
       "      <td>0.067075</td>\n",
       "      <td>-0.024512</td>\n",
       "      <td>0.108594</td>\n",
       "      <td>-0.044189</td>\n",
       "      <td>0.062109</td>\n",
       "      <td>0.039526</td>\n",
       "      <td>-0.018164</td>\n",
       "      <td>-0.017578</td>\n",
       "      <td>-0.007129</td>\n",
       "    </tr>\n",
       "  </tbody>\n",
       "</table>\n",
       "<p>150 rows × 300 columns</p>\n",
       "</div>"
      ],
      "text/plain": [
       "          0         1         2         3         4         5         6    \\\n",
       "300  0.015422  0.105496  0.109348  0.005195 -0.158474 -0.043972  0.008358   \n",
       "262 -0.137451  0.061462  0.118164  0.113403 -0.114380 -0.167725  0.032898   \n",
       "269  0.045715 -0.005253  0.139805 -0.068542 -0.032261  0.028774  0.094099   \n",
       "79  -0.034442 -0.031299  0.023230  0.031836 -0.114697 -0.071558  0.027069   \n",
       "316  0.175293  0.045135 -0.056519  0.084717 -0.047485 -0.171021  0.135742   \n",
       "..        ...       ...       ...       ...       ...       ...       ...   \n",
       "177 -0.098328  0.045135  0.046527  0.090129  0.007111 -0.011222  0.011662   \n",
       "313 -0.051838  0.038457  0.051732  0.021746 -0.105451  0.049683  0.038154   \n",
       "180 -0.080024  0.085042  0.090413  0.053806  0.083944 -0.059752  0.005602   \n",
       "309 -0.018338  0.101712  0.024170  0.148532 -0.107422 -0.138312  0.026233   \n",
       "176 -0.182227  0.204492  0.101306 -0.051172 -0.051929 -0.114063 -0.009035   \n",
       "\n",
       "          7         8         9    ...       290       291       292  \\\n",
       "300 -0.054552  0.050035  0.050469  ... -0.186822  0.004313  0.008952   \n",
       "262 -0.162872  0.218506  0.278076  ... -0.263428 -0.050293  0.096313   \n",
       "269 -0.275670  0.163452  0.059344  ... -0.166364 -0.040161 -0.113761   \n",
       "79  -0.104883  0.129980  0.024365  ... -0.103177  0.082863  0.017908   \n",
       "316 -0.004089  0.125244  0.250610  ... -0.252914  0.075562  0.201416   \n",
       "..        ...       ...       ...  ...       ...       ...       ...   \n",
       "177 -0.080322  0.216069  0.006897  ... -0.051439  0.028103 -0.033821   \n",
       "313 -0.072239  0.178170 -0.007417  ... -0.087742  0.151725 -0.083143   \n",
       "180 -0.058160  0.104947  0.030457  ...  0.014466  0.053467  0.066254   \n",
       "309 -0.023722  0.119602  0.036804  ... -0.128866  0.023234 -0.002658   \n",
       "176 -0.051416 -0.036243 -0.070132  ... -0.193262  0.067075 -0.024512   \n",
       "\n",
       "          293       294       295       296       297       298       299  \n",
       "300  0.011827 -0.057258  0.008735  0.089286  0.080285  0.129110  0.062500  \n",
       "262 -0.059265 -0.130630  0.067719 -0.000336  0.110565  0.029724  0.066589  \n",
       "269  0.155901  0.049482 -0.057717 -0.075997 -0.056798  0.152919  0.056436  \n",
       "79  -0.045935 -0.036285  0.048376  0.041296  0.065479  0.165227  0.041309  \n",
       "316 -0.027359 -0.049438  0.145996  0.222412  0.064941  0.157074 -0.067139  \n",
       "..        ...       ...       ...       ...       ...       ...       ...  \n",
       "177  0.042023 -0.000397  0.060448  0.051449 -0.109639 -0.047872  0.007622  \n",
       "313 -0.066861 -0.017997  0.134478  0.051688 -0.042332  0.034363 -0.052098  \n",
       "180 -0.023261  0.023153  0.137099  0.083252 -0.106581  0.035753 -0.009033  \n",
       "309  0.040145 -0.005100 -0.003499 -0.011000  0.047085  0.040826  0.008185  \n",
       "176  0.108594 -0.044189  0.062109  0.039526 -0.018164 -0.017578 -0.007129  \n",
       "\n",
       "[150 rows x 300 columns]"
      ]
     },
     "execution_count": 68,
     "metadata": {},
     "output_type": "execute_result"
    }
   ],
   "source": [
    "X_train_mean"
   ]
  },
  {
   "cell_type": "code",
   "execution_count": 80,
   "metadata": {},
   "outputs": [],
   "source": [
    "# Use cosine similarity to find closest class\n",
    "def classify_txt(txt, mean_embedding):\n",
    "\n",
    "    best_dist = 1\n",
    "    best_label = -1\n",
    "\n",
    "    for cl in range(num_classes):\n",
    "\n",
    "        dist = spatial.distance.cosine(transform_sentence(txt, model2), mean_embedding[cl])\n",
    "\n",
    "        if dist < best_dist :\n",
    "            best_dist = dist\n",
    "            best_label = cl\n",
    "\n",
    "    return best_label"
   ]
  },
  {
   "cell_type": "code",
   "execution_count": 91,
   "metadata": {},
   "outputs": [],
   "source": [
    "mean_embedding = {}\n",
    "for cl in range(num_classes):\n",
    "    mean_embedding[cl] = np.mean((X_train_mean[y_train == cl]), axis=0)"
   ]
  },
  {
   "cell_type": "code",
   "execution_count": 83,
   "metadata": {},
   "outputs": [],
   "source": [
    "# Process text and predict on the test set\n",
    "def return_score(sample_size, num_classes):\n",
    "\n",
    "    train, test = gen_sample(sample_size, num_classes, df)\n",
    "\n",
    "    X_train = train['Text']\n",
    "    y_train = train['Label'].values\n",
    "    X_test = test['Text']\n",
    "    y_test = test['Label'].values\n",
    "\n",
    "    X_train_mean = X_train.apply(lambda x : transform_sentence(x, model2))\n",
    "    X_test_mean = X_test.apply(lambda x : transform_sentence(x, model2))\n",
    "\n",
    "    X_train_mean = pd.DataFrame(X_train_mean)['Text'].apply(pd.Series)\n",
    "    X_test_mean = pd.DataFrame(X_test_mean)['Text'].apply(pd.Series)\n",
    "\n",
    "    # mean_embedding = {}\n",
    "    # for cl in range(num_classes):\n",
    "    #     mean_embedding[cl] = np.mean((X_train_mean[y_train == cl]), axis=0)\n",
    "\n",
    "    y_pred = [classify_txt(t, mean_embedding) for t in test['Text'].values]\n",
    "\n",
    "    return accuracy_score(y_pred, y_test)"
   ]
  },
  {
   "cell_type": "code",
   "execution_count": 93,
   "metadata": {},
   "outputs": [
    {
     "data": {
      "text/plain": [
       "0.47058823529411764"
      ]
     },
     "execution_count": 93,
     "metadata": {},
     "output_type": "execute_result"
    }
   ],
   "source": [
    "return_score(30, 5)"
   ]
  },
  {
   "cell_type": "code",
   "execution_count": 96,
   "metadata": {},
   "outputs": [],
   "source": [
    "from sklearn.neighbors import KNeighborsClassifier\n",
    "\n",
    "def return_score(sample_size, num_classes):\n",
    "\n",
    "    train, test = gen_sample(sample_size, num_classes, df)\n",
    "\n",
    "    X_train = train['Text']\n",
    "    y_train = train['Label'].values\n",
    "    X_test = test['Text']\n",
    "    y_test = test['Label'].values\n",
    "\n",
    "    X_train_mean = X_train.apply(lambda x : transform_sentence(x, model2))\n",
    "    X_test_mean = X_test.apply(lambda x : transform_sentence(x, model2))\n",
    "\n",
    "    X_train_mean = pd.DataFrame(X_train_mean)['Text'].apply(pd.Series)\n",
    "    X_test_mean = pd.DataFrame(X_test_mean)['Text'].apply(pd.Series)\n",
    "\n",
    "    clf = KNeighborsClassifier(n_neighbors=sample_size, p=2)\n",
    "    clf.fit(X_train_mean, y_train)\n",
    "\n",
    "    y_pred = clf.predict(X_test_mean)\n",
    "\n",
    "    return accuracy_score(y_pred, y_test)"
   ]
  },
  {
   "cell_type": "code",
   "execution_count": 97,
   "metadata": {},
   "outputs": [
    {
     "data": {
      "text/plain": [
       "0.5168067226890757"
      ]
     },
     "execution_count": 97,
     "metadata": {},
     "output_type": "execute_result"
    }
   ],
   "source": [
    "return_score(30, 5)"
   ]
  },
  {
   "cell_type": "code",
   "execution_count": 87,
   "metadata": {},
   "outputs": [],
   "source": [
    "all_accuracy = {0: [], 1: [], 2: [], 3: [], 4: [], 5: []}\n",
    "\n",
    "for num_samples in range(1, 30):\n",
    "    # for num_cl in range(1, 5+1):\n",
    "    all_accuracy[num_cl].append(return_score(num_samples, 5))"
   ]
  },
  {
   "cell_type": "code",
   "execution_count": 89,
   "metadata": {},
   "outputs": [
    {
     "data": {
      "image/png": "[encoded data removed]",
      "text/plain": [
       "<Figure size 1200x800 with 1 Axes>"
      ]
     },
     "metadata": {},
     "output_type": "display_data"
    }
   ],
   "source": [
    "plt.figure(figsize=(12,8))\n",
    "plt.plot(all_accuracy[0], label=\"2 classes\")\n",
    "plt.plot(all_accuracy[1], label=\"3 classes\")\n",
    "plt.plot(all_accuracy[2], label=\"4 classes\")\n",
    "plt.plot(all_accuracy[3], label=\"5 classes\")\n",
    "plt.plot(all_accuracy[4], label=\"6 classes\")\n",
    "plt.axvline(7, c='black', alpha=0.5)\n",
    "plt.title(\"Accuracy depending on the number of samples and classes\")\n",
    "plt.legend()\n",
    "plt.show()"
   ]
  },
  {
   "cell_type": "code",
   "execution_count": 90,
   "metadata": {},
   "outputs": [
    {
     "data": {
      "text/plain": [
       "{0: [],\n",
       " 1: [0.44386422976501305,\n",
       "  0.35714285714285715,\n",
       "  0.2546916890080429,\n",
       "  0.38315217391304346,\n",
       "  0.49586776859504134,\n",
       "  0.39664804469273746,\n",
       "  0.4985835694050991,\n",
       "  0.3994252873563218,\n",
       "  0.446064139941691,\n",
       "  0.4467455621301775,\n",
       "  0.4594594594594595,\n",
       "  0.4451219512195122,\n",
       "  0.37770897832817335,\n",
       "  0.41509433962264153,\n",
       "  0.4440894568690096,\n",
       "  0.5227272727272727,\n",
       "  0.47194719471947194,\n",
       "  0.4697986577181208,\n",
       "  0.45733788395904434,\n",
       "  0.4479166666666667,\n",
       "  0.4840989399293286,\n",
       "  0.44964028776978415,\n",
       "  0.43956043956043955,\n",
       "  0.48134328358208955,\n",
       "  0.4866920152091255,\n",
       "  0.5232558139534884,\n",
       "  0.4980237154150198,\n",
       "  0.4879032258064516,\n",
       "  0.48148148148148145],\n",
       " 2: [],\n",
       " 3: [],\n",
       " 4: [],\n",
       " 5: []}"
      ]
     },
     "execution_count": 90,
     "metadata": {},
     "output_type": "execute_result"
    }
   ],
   "source": [
    "all_accuracy"
   ]
  },
  {
   "cell_type": "code",
   "execution_count": null,
   "metadata": {},
   "outputs": [],
   "source": []
  }
 ],
 "metadata": {
  "kernelspec": {
   "display_name": "myenv",
   "language": "python",
   "name": "python3"
  },
  "language_info": {
   "codemirror_mode": {
    "name": "ipython",
    "version": 3
   },
   "file_extension": ".py",
   "mimetype": "text/x-python",
   "name": "python",
   "nbconvert_exporter": "python",
   "pygments_lexer": "ipython3",
   "version": "3.7.13"
  },
  "orig_nbformat": 4
 },
 "nbformat": 4,
 "nbformat_minor": 2
}
