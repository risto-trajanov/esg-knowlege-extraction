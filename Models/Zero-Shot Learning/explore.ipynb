{
 "cells": [
  {
   "cell_type": "code",
   "execution_count": 1,
   "metadata": {},
   "outputs": [],
   "source": [
    "import numpy as np # linear algebra\n",
    "import pandas as pd # data processing, CSV file I/O (e.g. pd.read_csv)\n",
    "import os, gc, warnings\n",
    "warnings.filterwarnings(\"ignore\")\n",
    "\n",
    "#import transformers\n",
    "from transformers import pipeline"
   ]
  },
  {
   "cell_type": "code",
   "execution_count": 2,
   "metadata": {},
   "outputs": [
    {
     "name": "stderr",
     "output_type": "stream",
     "text": [
      "No model was supplied, defaulted to facebook/bart-large-mnli and revision c626438 (https://huggingface.co/facebook/bart-large-mnli).\n",
      "Using a pipeline without specifying a model name and revision in production is not recommended.\n",
      "Downloading: 100%|██████████| 1.15k/1.15k [00:00<00:00, 372kB/s]\n",
      "Downloading: 100%|██████████| 1.63G/1.63G [01:14<00:00, 21.8MB/s]\n",
      "Downloading: 100%|██████████| 26.0/26.0 [00:00<00:00, 13.0kB/s]\n",
      "Downloading: 100%|██████████| 899k/899k [00:00<00:00, 18.2MB/s]\n",
      "Downloading: 100%|██████████| 456k/456k [00:00<00:00, 15.4MB/s]\n",
      "Downloading: 100%|██████████| 1.36M/1.36M [00:00<00:00, 17.9MB/s]\n"
     ]
    }
   ],
   "source": [
    "classifier = pipeline(\"zero-shot-classification\")"
   ]
  },
  {
   "cell_type": "code",
   "execution_count": 4,
   "metadata": {},
   "outputs": [],
   "source": [
    "df = pd.read_json('./project-1-at-2023-03-27-00-39-6ca34300 (1).json')"
   ]
  },
  {
   "cell_type": "code",
   "execution_count": 49,
   "metadata": {},
   "outputs": [],
   "source": [
    "texts = []\n",
    "labels = []\n",
    "for label_list in df['label-General'].values.tolist():\n",
    "    for label in label_list:\n",
    "        texts.append(label['text'])\n",
    "        labels.append(label['labels'][0])"
   ]
  },
  {
   "cell_type": "code",
   "execution_count": 50,
   "metadata": {},
   "outputs": [
    {
     "data": {
      "text/plain": [
       "True"
      ]
     },
     "execution_count": 50,
     "metadata": {},
     "output_type": "execute_result"
    }
   ],
   "source": [
    "len(labels) == len(texts)"
   ]
  },
  {
   "cell_type": "code",
   "execution_count": 63,
   "metadata": {},
   "outputs": [],
   "source": [
    "df_esg = pd.DataFrame({'text': texts, 'label': labels})"
   ]
  },
  {
   "cell_type": "code",
   "execution_count": 64,
   "metadata": {},
   "outputs": [
    {
     "data": {
      "text/html": [
       "<div>\n",
       "<style scoped>\n",
       "    .dataframe tbody tr th:only-of-type {\n",
       "        vertical-align: middle;\n",
       "    }\n",
       "\n",
       "    .dataframe tbody tr th {\n",
       "        vertical-align: top;\n",
       "    }\n",
       "\n",
       "    .dataframe thead th {\n",
       "        text-align: right;\n",
       "    }\n",
       "</style>\n",
       "<table border=\"1\" class=\"dataframe\">\n",
       "  <thead>\n",
       "    <tr style=\"text-align: right;\">\n",
       "      <th></th>\n",
       "      <th>text</th>\n",
       "      <th>label</th>\n",
       "    </tr>\n",
       "  </thead>\n",
       "  <tbody>\n",
       "    <tr>\n",
       "      <th>0</th>\n",
       "      <td>We, the shareholders, must protect our assets ...</td>\n",
       "      <td>Environmental Positive</td>\n",
       "    </tr>\n",
       "    <tr>\n",
       "      <th>1</th>\n",
       "      <td>we therefore support companies to substantiall...</td>\n",
       "      <td>Environmental Positive</td>\n",
       "    </tr>\n",
       "    <tr>\n",
       "      <th>2</th>\n",
       "      <td>We, the shareholders, must protect our assets ...</td>\n",
       "      <td>Governence Positive</td>\n",
       "    </tr>\n",
       "    <tr>\n",
       "      <th>3</th>\n",
       "      <td>Shareholders request the Company to substantia...</td>\n",
       "      <td>Environmental Positive</td>\n",
       "    </tr>\n",
       "    <tr>\n",
       "      <th>4</th>\n",
       "      <td>Shareholders request the Company to substanti...</td>\n",
       "      <td>Governence Positive</td>\n",
       "    </tr>\n",
       "    <tr>\n",
       "      <th>...</th>\n",
       "      <td>...</td>\n",
       "      <td>...</td>\n",
       "    </tr>\n",
       "    <tr>\n",
       "      <th>421</th>\n",
       "      <td>With this review Shell have set the benchmark ...</td>\n",
       "      <td>Environmental Positive</td>\n",
       "    </tr>\n",
       "    <tr>\n",
       "      <th>422</th>\n",
       "      <td>With this review Shell have set the benchmark ...</td>\n",
       "      <td>Governence Positive</td>\n",
       "    </tr>\n",
       "    <tr>\n",
       "      <th>423</th>\n",
       "      <td>Shell said it will continue to engage with the...</td>\n",
       "      <td>Governence Positive</td>\n",
       "    </tr>\n",
       "    <tr>\n",
       "      <th>424</th>\n",
       "      <td>Shell last month urged President Donald Trump’...</td>\n",
       "      <td>Environmental Positive</td>\n",
       "    </tr>\n",
       "    <tr>\n",
       "      <th>425</th>\n",
       "      <td>Shell last month urged President Donald Trump’...</td>\n",
       "      <td>Governence Positive</td>\n",
       "    </tr>\n",
       "  </tbody>\n",
       "</table>\n",
       "<p>426 rows × 2 columns</p>\n",
       "</div>"
      ],
      "text/plain": [
       "                                                  text                   label\n",
       "0    We, the shareholders, must protect our assets ...  Environmental Positive\n",
       "1    we therefore support companies to substantiall...  Environmental Positive\n",
       "2    We, the shareholders, must protect our assets ...     Governence Positive\n",
       "3    Shareholders request the Company to substantia...  Environmental Positive\n",
       "4     Shareholders request the Company to substanti...     Governence Positive\n",
       "..                                                 ...                     ...\n",
       "421  With this review Shell have set the benchmark ...  Environmental Positive\n",
       "422  With this review Shell have set the benchmark ...     Governence Positive\n",
       "423  Shell said it will continue to engage with the...     Governence Positive\n",
       "424  Shell last month urged President Donald Trump’...  Environmental Positive\n",
       "425  Shell last month urged President Donald Trump’...     Governence Positive\n",
       "\n",
       "[426 rows x 2 columns]"
      ]
     },
     "execution_count": 64,
     "metadata": {},
     "output_type": "execute_result"
    }
   ],
   "source": [
    "df_esg"
   ]
  },
  {
   "cell_type": "code",
   "execution_count": 35,
   "metadata": {},
   "outputs": [
    {
     "data": {
      "text/plain": [
       "{'sequence': 'we therefore support companies to substantially reduce greenhouse gas (GHG) emissions',\n",
       " 'labels': ['environmental positive', 'environmental negative'],\n",
       " 'scores': [0.7859851717948914, 0.21401482820510864]}"
      ]
     },
     "execution_count": 35,
     "metadata": {},
     "output_type": "execute_result"
    }
   ],
   "source": [
    "seq = \"we therefore support companies to substantially reduce greenhouse gas (GHG) emissions\"\n",
    "candidate_labels = [\"environmental positive\", \"environmental negative\"]\n",
    "\n",
    "classifier(seq, candidate_labels)"
   ]
  },
  {
   "cell_type": "code",
   "execution_count": null,
   "metadata": {},
   "outputs": [],
   "source": []
  }
 ],
 "metadata": {
  "kernelspec": {
   "display_name": "myenv",
   "language": "python",
   "name": "python3"
  },
  "language_info": {
   "codemirror_mode": {
    "name": "ipython",
    "version": 3
   },
   "file_extension": ".py",
   "mimetype": "text/x-python",
   "name": "python",
   "nbconvert_exporter": "python",
   "pygments_lexer": "ipython3",
   "version": "3.7.13"
  },
  "orig_nbformat": 4
 },
 "nbformat": 4,
 "nbformat_minor": 2
}
